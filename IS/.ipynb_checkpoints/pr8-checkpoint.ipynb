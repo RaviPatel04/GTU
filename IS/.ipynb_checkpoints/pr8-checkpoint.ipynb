{
 "cells": [
  {
   "cell_type": "code",
   "execution_count": 3,
   "id": "36c3e151-3a44-4112-a32c-ffab248fbf8b",
   "metadata": {},
   "outputs": [
    {
     "name": "stdin",
     "output_type": "stream",
     "text": [
      "Enter a prime number P (public value):  31\n",
      "Enter a primitive root G of P (public value):  3\n"
     ]
    },
    {
     "name": "stdout",
     "output_type": "stream",
     "text": [
      "\n",
      "The value of P: 31\n",
      "The value of G: 3\n"
     ]
    },
    {
     "name": "stdin",
     "output_type": "stream",
     "text": [
      "\n",
      "Enter Alice's private key (a):  9\n",
      "Enter Bob's private key (b):  14\n"
     ]
    },
    {
     "name": "stdout",
     "output_type": "stream",
     "text": [
      "\n",
      "Alice's public key (x): 29\n",
      "Bob's public key (y): 10\n",
      "\n",
      "The secret key for Alice is: 16\n",
      "The secret key for Bob is: 16\n"
     ]
    }
   ],
   "source": [
    "def power(a, b, p):\n",
    "    result = 1\n",
    "    a = a % p\n",
    "    while b > 0:\n",
    "        if b % 2 == 1:\n",
    "            result = (result * a) % p\n",
    "        b = b >> 1\n",
    "        a = (a * a) % p\n",
    "    return result\n",
    "\n",
    "P = int(input(\"Enter a prime number P (public value): \"))  \n",
    "G = int(input(\"Enter a primitive root G of P (public value): \"))   \n",
    "\n",
    "print(\"\\nThe value of P:\", P)\n",
    "print(\"The value of G:\", G)\n",
    "\n",
    "a = int(input(\"\\nEnter Alice's private key (a): \"))\n",
    "b = int(input(\"Enter Bob's private key (b): \"))\n",
    "\n",
    "x = power(G, a, P)  \n",
    "y = power(G, b, P)  \n",
    "\n",
    "print(\"\\nAlice's public key (x):\", x)\n",
    "print(\"Bob's public key (y):\", y)\n",
    "\n",
    "ka = power(y, a, P)  \n",
    "kb = power(x, b, P) \n",
    "\n",
    "print(\"\\nThe secret key for Alice is:\", ka)\n",
    "print(\"The secret key for Bob is:\", kb)\n",
    "\n",
    "if ka == kb:\n",
    "    print(\"\\nThe keys match! Secure communication established.\")\n",
    "else:\n",
    "    print(\"\\nThe keys do not match. Something went wrong!\")\n"
   ]
  },
  {
   "cell_type": "code",
   "execution_count": null,
   "id": "ecc16ff9-4a18-450c-834f-ce107464f00a",
   "metadata": {},
   "outputs": [],
   "source": []
  }
 ],
 "metadata": {
  "kernelspec": {
   "display_name": "Python 3 (ipykernel)",
   "language": "python",
   "name": "python3"
  },
  "language_info": {
   "codemirror_mode": {
    "name": "ipython",
    "version": 3
   },
   "file_extension": ".py",
   "mimetype": "text/x-python",
   "name": "python",
   "nbconvert_exporter": "python",
   "pygments_lexer": "ipython3",
   "version": "3.12.2"
  }
 },
 "nbformat": 4,
 "nbformat_minor": 5
}
