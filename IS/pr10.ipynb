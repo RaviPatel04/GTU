{
 "cells": [
  {
   "cell_type": "code",
   "execution_count": 1,
   "id": "0bb2d3b1-b581-410c-bc58-2a20d80e2f9c",
   "metadata": {},
   "outputs": [
    {
     "name": "stdin",
     "output_type": "stream",
     "text": [
      "Please enter the string to hash with SHA-1:  Hello Sun\n"
     ]
    },
    {
     "name": "stdout",
     "output_type": "stream",
     "text": [
      "\n",
      "Generated SHA-1 Hash:\n",
      "Input String: Hello Sun\n",
      "SHA-1 Hash: 34f16aa986cb196850c941dbc21224ef9a4955d6\n"
     ]
    }
   ],
   "source": [
    "class SHA1:\n",
    "    def __init__(self):\n",
    "        self.h = [0x67452301, 0xEFCDAB89, 0x98BADCFE, 0x10325476, 0xC3D2E1F0]\n",
    "        self.k = [0x5A827999, 0x6ED9EBA1, 0x8F1BBCDC, 0xCA62C1D6]\n",
    "        self.data = b''\n",
    "        self.length = 0\n",
    "\n",
    "    def update(self, data):\n",
    "        \"\"\"Updates the current hash with new data.\"\"\"\n",
    "        self.data += data\n",
    "        self.length += len(data) * 8\n",
    "        self._process_blocks()\n",
    "\n",
    "    def digest(self):\n",
    "        \"\"\"Finalizes the hash computation and returns the digest.\"\"\"\n",
    "        self._pad_data()\n",
    "        self._process_blocks()  \n",
    "        return b''.join(x.to_bytes(4, 'big') for x in self.h)\n",
    "\n",
    "    def _process_blocks(self):\n",
    "        \"\"\"Processes 512-bit (64-byte) chunks of data.\"\"\"\n",
    "        for chunk_start in range(0, len(self.data), 64):\n",
    "            chunk = self.data[chunk_start:chunk_start + 64]\n",
    "            w = [int.from_bytes(chunk[j:j+4], 'big') for j in range(0, 64, 4)]\n",
    "            w += [0] * (80 - len(w))\n",
    "\n",
    "            for j in range(16, 80):\n",
    "                w[j] = self._left_rotate(w[j - 3] ^ w[j - 8] ^ w[j - 14] ^ w[j - 16], 1)\n",
    "\n",
    "            a, b, c, d, e = self.h\n",
    "\n",
    "            for j in range(80):\n",
    "                if j < 20:\n",
    "                    f = (b & c) | (~b & d)\n",
    "                    k = self.k[0]\n",
    "                elif j < 40:\n",
    "                    f = b ^ c ^ d\n",
    "                    k = self.k[1]\n",
    "                elif j < 60:\n",
    "                    f = (b & c) | (b & d) | (c & d)\n",
    "                    k = self.k[2]\n",
    "                else:\n",
    "                    f = b ^ c ^ d\n",
    "                    k = self.k[3]\n",
    "\n",
    "                temp = (self._left_rotate(a, 5) + f + e + k + w[j]) & 0xFFFFFFFF\n",
    "                e = d\n",
    "                d = c\n",
    "                c = self._left_rotate(b, 30)\n",
    "                b = a\n",
    "                a = temp\n",
    "\n",
    "            self.h = [(x + y) & 0xFFFFFFFF for x, y in zip(self.h, [a, b, c, d, e])]\n",
    "\n",
    "    def _pad_data(self):\n",
    "        \"\"\"Pads the message data to a multiple of 512 bits.\"\"\"\n",
    "        self.data += b'\\x80'  \n",
    "        while (len(self.data) * 8) % 512 != 448:\n",
    "            self.data += b'\\x00'\n",
    "        self.data += self.length.to_bytes(8, 'big')\n",
    "\n",
    "    def _left_rotate(self, n, b):\n",
    "        \"\"\"Performs a left circular shift.\"\"\"\n",
    "        return ((n << b) | (n >> (32 - b))) & 0xFFFFFFFF\n",
    "\n",
    "\n",
    "def generate_sha1_hash(input_string):\n",
    "    \"\"\"Generates the SHA-1 hash for a given input string.\"\"\"\n",
    "    if not input_string:\n",
    "        return \"Error: Input string is empty.\"\n",
    "    \n",
    "    sha1 = SHA1()\n",
    "    sha1.update(input_string.encode('utf-8'))\n",
    "    return sha1.digest().hex()\n",
    "\n",
    "\n",
    "if __name__ == \"__main__\":\n",
    "    input_string = input(\"Please enter the string to hash with SHA-1: \").strip()\n",
    "\n",
    "    sha1_hash = generate_sha1_hash(input_string)\n",
    "\n",
    "    if \"Error\" in sha1_hash:\n",
    "        print(sha1_hash)\n",
    "    else:\n",
    "        print(\"\\nGenerated SHA-1 Hash:\")\n",
    "        print(f\"Input String: {input_string}\")\n",
    "        print(f\"SHA-1 Hash: {sha1_hash}\")\n"
   ]
  },
  {
   "cell_type": "code",
   "execution_count": null,
   "id": "3d080923-f38f-450c-9cbd-e5ca276d33ee",
   "metadata": {},
   "outputs": [],
   "source": []
  }
 ],
 "metadata": {
  "kernelspec": {
   "display_name": "Python 3 (ipykernel)",
   "language": "python",
   "name": "python3"
  },
  "language_info": {
   "codemirror_mode": {
    "name": "ipython",
    "version": 3
   },
   "file_extension": ".py",
   "mimetype": "text/x-python",
   "name": "python",
   "nbconvert_exporter": "python",
   "pygments_lexer": "ipython3",
   "version": "3.12.2"
  }
 },
 "nbformat": 4,
 "nbformat_minor": 5
}
