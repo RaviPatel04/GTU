{
 "cells": [
  {
   "cell_type": "code",
   "execution_count": 1,
   "id": "22c2a721-3110-436c-96b8-c335aa96a927",
   "metadata": {},
   "outputs": [
    {
     "name": "stdout",
     "output_type": "stream",
     "text": [
      "72\n",
      "101\n",
      "108\n",
      "108\n",
      "111\n",
      "32\n",
      "119\n",
      "111\n",
      "114\n",
      "108\n",
      "100\n",
      "33\n",
      "33\n",
      "10\n",
      "90\n"
     ]
    }
   ],
   "source": [
    "with open('length.txt', 'rb') as f:\n",
    "    for i in range(15):\n",
    "        b = f.read(1)\n",
    "        if not b:\n",
    "            break\n",
    "        print(ord(b))"
   ]
  }
 ],
 "metadata": {
  "kernelspec": {
   "display_name": "Python 3 (ipykernel)",
   "language": "python",
   "name": "python3"
  },
  "language_info": {
   "codemirror_mode": {
    "name": "ipython",
    "version": 3
   },
   "file_extension": ".py",
   "mimetype": "text/x-python",
   "name": "python",
   "nbconvert_exporter": "python",
   "pygments_lexer": "ipython3",
   "version": "3.11.4"
  }
 },
 "nbformat": 4,
 "nbformat_minor": 5
}
