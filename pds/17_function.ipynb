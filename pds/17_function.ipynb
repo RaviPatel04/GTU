{
 "cells": [
  {
   "cell_type": "code",
   "execution_count": 1,
   "id": "5228ff3a-0551-4959-aa74-cb2ec0e4ab13",
   "metadata": {},
   "outputs": [
    {
     "name": "stdout",
     "output_type": "stream",
     "text": [
      "addition: 5\n",
      "subtraction: 1\n",
      "multiplication: 6\n",
      "division: 1.5\n",
      "modulo: 1\n"
     ]
    }
   ],
   "source": [
    "def basic(a,b):\n",
    "    print(f\"addition: {a + b}\")\n",
    "    print(f\"subtraction: {a - b}\")\n",
    "    print(f\"multiplication: {a * b}\")\n",
    "    print(f\"division: {a / b}\")\n",
    "    print(f\"modulo: {a % b}\")\n",
    "\n",
    "a = basic(3,2)"
   ]
  }
 ],
 "metadata": {
  "kernelspec": {
   "display_name": "Python 3 (ipykernel)",
   "language": "python",
   "name": "python3"
  },
  "language_info": {
   "codemirror_mode": {
    "name": "ipython",
    "version": 3
   },
   "file_extension": ".py",
   "mimetype": "text/x-python",
   "name": "python",
   "nbconvert_exporter": "python",
   "pygments_lexer": "ipython3",
   "version": "3.11.4"
  }
 },
 "nbformat": 4,
 "nbformat_minor": 5
}
