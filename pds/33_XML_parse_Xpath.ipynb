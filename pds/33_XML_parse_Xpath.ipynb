{
 "cells": [
  {
   "cell_type": "markdown",
   "id": "e8229c13-b8d9-4f8d-ab71-8391c7430b26",
   "metadata": {},
   "source": [
    "***Practical 33***"
   ]
  },
  {
   "cell_type": "markdown",
   "id": "cfe5dcc7-5090-4a6b-9e95-400a64fde0e2",
   "metadata": {},
   "source": [
    "**Write a python program for paring XML using XPath.**"
   ]
  },
  {
   "cell_type": "code",
   "execution_count": 1,
   "id": "c2055076-f10c-4140-b224-e2b04813536a",
   "metadata": {},
   "outputs": [
    {
     "name": "stdout",
     "output_type": "stream",
     "text": [
      "catalog\n",
      "[['Gambardella, Matthew', 'Ralls, Kim', 'Corets, Eva', 'Corets, Eva', 'Corets, Eva', 'Randall, Cynthia', 'Thurman, Paula', 'Knorr, Stefan', 'Kress, Peter', \"O'Brien, Tim\", \"O'Brien, Tim\", \"O'Brien, Tim\", 'Galos, Mike', 'Galos, Mike', 'Galos, Mike', 'Galos, Mike'], [\"XML Developer's Guide\", 'Midnight Rain', 'Maeve Ascendant', \"Oberon's Legacy\", 'The Sundered Grail', 'Lover Birds', 'Splish Splash', 'Creepy Crawlies', 'Paradox Lost', 'Microsoft .NET: The Programming Bible', 'MSXML3: A Comprehensive Guide', 'MSXML3: A Comprehensive Guide', 'Visual Studio 7: A Comprehensive Guide', 'Visual Studio 7: A Comprehensive Guide', 'Visual Studio 7: A Comprehensive Guide', 'Visual Studio 7: A Comprehensive Guide'], [44.95, 5.95, 5.95, 5.95, 5.95, 4.95, 4.95, 4.95, 6.95, 36.95, 36.95, 36.95, 49.95, 49.95, 49.95, 49.95]]\n",
      "                            0                    1                      2   \\\n",
      "0   [[[Gambardella, Matthew]]]     [[[Ralls, Kim]]]      [[[Corets, Eva]]]   \n",
      "1  [[[XML Developer's Guide]]]  [[[Midnight Rain]]]  [[[Maeve Ascendant]]]   \n",
      "2                  [[[44.95]]]           [[[5.95]]]             [[[5.95]]]   \n",
      "\n",
      "                      3                         4                       5   \\\n",
      "0      [[[Corets, Eva]]]         [[[Corets, Eva]]]  [[[Randall, Cynthia]]]   \n",
      "1  [[[Oberon's Legacy]]]  [[[The Sundered Grail]]]       [[[Lover Birds]]]   \n",
      "2             [[[5.95]]]                [[[5.95]]]              [[[4.95]]]   \n",
      "\n",
      "                     6                      7                   8   \\\n",
      "0  [[[Thurman, Paula]]]    [[[Knorr, Stefan]]]  [[[Kress, Peter]]]   \n",
      "1   [[[Splish Splash]]]  [[[Creepy Crawlies]]]  [[[Paradox Lost]]]   \n",
      "2            [[[4.95]]]             [[[4.95]]]          [[[6.95]]]   \n",
      "\n",
      "                                            9   \\\n",
      "0                           [[[O'Brien, Tim]]]   \n",
      "1  [[[Microsoft .NET: The Programming Bible]]]   \n",
      "2                                  [[[36.95]]]   \n",
      "\n",
      "                                    10                                   11  \\\n",
      "0                   [[[O'Brien, Tim]]]                   [[[O'Brien, Tim]]]   \n",
      "1  [[[MSXML3: A Comprehensive Guide]]]  [[[MSXML3: A Comprehensive Guide]]]   \n",
      "2                          [[[36.95]]]                          [[[36.95]]]   \n",
      "\n",
      "                                             12  \\\n",
      "0                             [[[Galos, Mike]]]   \n",
      "1  [[[Visual Studio 7: A Comprehensive Guide]]]   \n",
      "2                                   [[[49.95]]]   \n",
      "\n",
      "                                             13  \\\n",
      "0                             [[[Galos, Mike]]]   \n",
      "1  [[[Visual Studio 7: A Comprehensive Guide]]]   \n",
      "2                                   [[[49.95]]]   \n",
      "\n",
      "                                             14  \\\n",
      "0                             [[[Galos, Mike]]]   \n",
      "1  [[[Visual Studio 7: A Comprehensive Guide]]]   \n",
      "2                                   [[[49.95]]]   \n",
      "\n",
      "                                             15  \n",
      "0                             [[[Galos, Mike]]]  \n",
      "1  [[[Visual Studio 7: A Comprehensive Guide]]]  \n",
      "2                                   [[[49.95]]]  \n"
     ]
    }
   ],
   "source": [
    "from lxml import objectify\n",
    "import pandas as pd\n",
    "from distutils import util\n",
    "xml = objectify.parse(open('books.xml'))\n",
    "root = xml.getroot()\n",
    "print(root.tag)\n",
    "a=root.xpath('book/author')\n",
    "t=root.xpath('book/title')\n",
    "p=root.xpath('book/price')\n",
    "list1=[a,t,p]\n",
    "print(list1)\n",
    "df = pd.DataFrame(list1)\n",
    "print(df)"
   ]
  }
 ],
 "metadata": {
  "kernelspec": {
   "display_name": "Python 3 (ipykernel)",
   "language": "python",
   "name": "python3"
  },
  "language_info": {
   "codemirror_mode": {
    "name": "ipython",
    "version": 3
   },
   "file_extension": ".py",
   "mimetype": "text/x-python",
   "name": "python",
   "nbconvert_exporter": "python",
   "pygments_lexer": "ipython3",
   "version": "3.11.4"
  }
 },
 "nbformat": 4,
 "nbformat_minor": 5
}
