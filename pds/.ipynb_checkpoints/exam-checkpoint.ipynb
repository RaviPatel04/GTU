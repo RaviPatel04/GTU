{
 "cells": [
  {
   "cell_type": "code",
   "execution_count": 26,
   "id": "2fb8e3ba-3683-40ef-a2b8-aa797b7cb079",
   "metadata": {},
   "outputs": [
    {
     "name": "stdout",
     "output_type": "stream",
     "text": [
      "[[0.  0.  0.  0.5 0.  0.5 0.  0.  0.  0.  0.  0.  0.  0.5 0.  0.5 0.  0.\n",
      "  0.  0. ]\n",
      " [0.  0.  0.  0.5 0.  0.5 0.  0.  0.  0.  0.  0.  0.  0.5 0.  0.5 0.  0.\n",
      "  0.  0. ]]\n"
     ]
    }
   ],
   "source": [
    "import numpy as np\n",
    "import matplotlib.pyplot as plt\n",
    "from scipy.stats import skew,kurtosis\n",
    "\n",
    "data = np.random."
   ]
  },
  {
   "cell_type": "code",
   "execution_count": null,
   "id": "242e5ea9-0b3f-4619-a213-31ef81ad558e",
   "metadata": {},
   "outputs": [],
   "source": []
  }
 ],
 "metadata": {
  "kernelspec": {
   "display_name": "Python 3 (ipykernel)",
   "language": "python",
   "name": "python3"
  },
  "language_info": {
   "codemirror_mode": {
    "name": "ipython",
    "version": 3
   },
   "file_extension": ".py",
   "mimetype": "text/x-python",
   "name": "python",
   "nbconvert_exporter": "python",
   "pygments_lexer": "ipython3",
   "version": "3.11.4"
  }
 },
 "nbformat": 4,
 "nbformat_minor": 5
}
