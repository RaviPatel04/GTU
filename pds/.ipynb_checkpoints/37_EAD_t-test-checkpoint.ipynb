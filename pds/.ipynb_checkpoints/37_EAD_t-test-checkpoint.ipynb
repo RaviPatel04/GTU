{
 "cells": [
  {
   "cell_type": "markdown",
   "id": "04c7457c-626c-417a-977e-e1a82c3e6e4c",
   "metadata": {},
   "source": [
    "***Practical 37***"
   ]
  },
  {
   "cell_type": "markdown",
   "id": "482fafe3-304d-44c8-93b6-ad0a4f088ea2",
   "metadata": {},
   "source": [
    "**Write a python program to create applied visualization for EDA using boxplots and perform t-tests.**"
   ]
  },
  {
   "cell_type": "code",
   "execution_count": 1,
   "id": "64b02489-66f1-42b5-9fa7-11f65544c233",
   "metadata": {},
   "outputs": [
    {
     "name": "stdout",
     "output_type": "stream",
     "text": [
      "0       True\n",
      "1       True\n",
      "2       True\n",
      "3       True\n",
      "4       True\n",
      "       ...  \n",
      "145    False\n",
      "146    False\n",
      "147    False\n",
      "148    False\n",
      "149    False\n",
      "Name: Alien, Length: 150, dtype: bool\n"
     ]
    },
    {
     "data": {
      "image/png": "[encoded data removed]",
      "text/plain": [
       "<Figure size 640x480 with 1 Axes>"
      ]
     },
     "metadata": {},
     "output_type": "display_data"
    }
   ],
   "source": [
    "from sklearn.datasets import load_iris \n",
    "import pandas as pd \n",
    "iris=load_iris() \n",
    "df=pd.DataFrame(iris.data,columns=iris.feature_names) \n",
    "df['Alien']=pd.Series([iris.target_names[k] for k in iris.target],dtype='category')\n",
    "df.plot(kind='box') \n",
    "Alien1=df['Alien']=='setosa' \n",
    "Alien2=df['Alien']=='versicolor' \n",
    "print(Alien1) "
   ]
  },
  {
   "cell_type": "code",
   "execution_count": 2,
   "id": "1cd0cd5c-3fbd-4512-b022-4250423179f0",
   "metadata": {},
   "outputs": [
    {
     "name": "stdout",
     "output_type": "stream",
     "text": [
      "5.404910513441677e-62\n"
     ]
    }
   ],
   "source": [
    "from scipy.stats import ttest_ind \n",
    "t,pvalue=ttest_ind(df['petal length (cm)'][Alien1],df['petal length (cm)'][Alien2])\n",
    "print(pvalue)"
   ]
  },
  {
   "cell_type": "code",
   "execution_count": 3,
   "id": "76e665b8-ea23-4ff5-bc7b-3daa90d8ba2d",
   "metadata": {},
   "outputs": [
    {
     "name": "stdout",
     "output_type": "stream",
     "text": [
      "25\n"
     ]
    }
   ],
   "source": [
    "ages=[10,20,35,50,28,40,55,18,16,55,30,25,43,18,30,28,14,24,16,17,32,35,26,27,65]\n",
    "print(len(ages))"
   ]
  },
  {
   "cell_type": "code",
   "execution_count": 4,
   "id": "d3fb745a-bba5-40b3-b340-4281e939031e",
   "metadata": {},
   "outputs": [
    {
     "name": "stdout",
     "output_type": "stream",
     "text": [
      "30.28\n"
     ]
    }
   ],
   "source": [
    "import numpy as np \n",
    "ages_mean=np.mean(ages) \n",
    "print(ages_mean) "
   ]
  },
  {
   "cell_type": "code",
   "execution_count": 5,
   "id": "2d104014-fce9-4660-b659-85997e5d185a",
   "metadata": {},
   "outputs": [
    {
     "name": "stdout",
     "output_type": "stream",
     "text": [
      "[24 28 16 18 28 25 35 30 55 18]\n"
     ]
    }
   ],
   "source": [
    "sample_size=10 \n",
    "age_sample=np.random.choice(ages,sample_size) \n",
    "print(age_sample) "
   ]
  },
  {
   "cell_type": "code",
   "execution_count": 6,
   "id": "7219ff55-495c-4c49-bf36-6f3ce353facc",
   "metadata": {},
   "outputs": [
    {
     "name": "stdout",
     "output_type": "stream",
     "text": [
      "0.5360120739241275\n"
     ]
    }
   ],
   "source": [
    "from scipy.stats import ttest_1samp \n",
    "ttest,p_value=ttest_1samp(age_sample,30) \n",
    "print(p_value) "
   ]
  },
  {
   "cell_type": "code",
   "execution_count": 7,
   "id": "e4d5623e-07d9-4538-bce2-8366fd35718c",
   "metadata": {},
   "outputs": [
    {
     "name": "stdout",
     "output_type": "stream",
     "text": [
      "we are accepting null hypothesis\n"
     ]
    }
   ],
   "source": [
    "if p_value < 0.05: # alpha value is 0.05 or 5% \n",
    "    print(\" we are rejecting null hypothesis\") \n",
    "else: \n",
    "    print(\"we are accepting null hypothesis\")"
   ]
  }
 ],
 "metadata": {
  "kernelspec": {
   "display_name": "Python 3 (ipykernel)",
   "language": "python",
   "name": "python3"
  },
  "language_info": {
   "codemirror_mode": {
    "name": "ipython",
    "version": 3
   },
   "file_extension": ".py",
   "mimetype": "text/x-python",
   "name": "python",
   "nbconvert_exporter": "python",
   "pygments_lexer": "ipython3",
   "version": "3.11.4"
  }
 },
 "nbformat": 4,
 "nbformat_minor": 5
}
