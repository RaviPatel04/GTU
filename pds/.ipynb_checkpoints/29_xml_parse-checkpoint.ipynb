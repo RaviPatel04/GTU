{
 "cells": [
  {
   "cell_type": "markdown",
   "id": "6781af48-2ac7-43ce-abea-ccf75057d39b",
   "metadata": {},
   "source": [
    "***Practical 29***"
   ]
  },
  {
   "cell_type": "markdown",
   "id": "c0a2bbf2-c268-4c58-9bc9-9f756c3f285e",
   "metadata": {},
   "source": [
    "**Write a python program to perform XML Parsing.**"
   ]
  },
  {
   "cell_type": "code",
   "execution_count": 1,
   "id": "9ed91a5d-5e7d-4f2f-869e-295d12d3eb7a",
   "metadata": {},
   "outputs": [
    {
     "name": "stdout",
     "output_type": "stream",
     "text": [
      "catalog\n"
     ]
    },
    {
     "data": {
      "text/html": [
       "<div>\n",
       "<style scoped>\n",
       "    .dataframe tbody tr th:only-of-type {\n",
       "        vertical-align: middle;\n",
       "    }\n",
       "\n",
       "    .dataframe tbody tr th {\n",
       "        vertical-align: top;\n",
       "    }\n",
       "\n",
       "    .dataframe thead th {\n",
       "        text-align: right;\n",
       "    }\n",
       "</style>\n",
       "<table border=\"1\" class=\"dataframe\">\n",
       "  <thead>\n",
       "    <tr style=\"text-align: right;\">\n",
       "      <th></th>\n",
       "      <th>author</th>\n",
       "      <th>title</th>\n",
       "      <th>price</th>\n",
       "    </tr>\n",
       "  </thead>\n",
       "  <tbody>\n",
       "    <tr>\n",
       "      <th>0</th>\n",
       "      <td>Gambardella, Matthew</td>\n",
       "      <td>XML Developer's Guide</td>\n",
       "      <td>44.95</td>\n",
       "    </tr>\n",
       "    <tr>\n",
       "      <th>1</th>\n",
       "      <td>Ralls, Kim</td>\n",
       "      <td>Midnight Rain</td>\n",
       "      <td>5.95</td>\n",
       "    </tr>\n",
       "    <tr>\n",
       "      <th>2</th>\n",
       "      <td>Corets, Eva</td>\n",
       "      <td>Maeve Ascendant</td>\n",
       "      <td>5.95</td>\n",
       "    </tr>\n",
       "  </tbody>\n",
       "</table>\n",
       "</div>"
      ],
      "text/plain": [
       "                 author                  title  price\n",
       "0  Gambardella, Matthew  XML Developer's Guide  44.95\n",
       "1            Ralls, Kim          Midnight Rain   5.95\n",
       "2           Corets, Eva        Maeve Ascendant   5.95"
      ]
     },
     "execution_count": 1,
     "metadata": {},
     "output_type": "execute_result"
    }
   ],
   "source": [
    "import pandas as pd\n",
    "from lxml.objectify import *\n",
    "xml=parse(open(\"books.xml\",\"r\"))\n",
    "r=xml.getroot()\n",
    "print(r.tag)\n",
    "df=pd.DataFrame(columns=(\"author\",\"title\",\"price\"))\n",
    "for i in range(3):\n",
    "    obj = r.getchildren()[i].getchildren()\n",
    "    d={\"author\":obj[0].text,\"title\":obj[1].text,\"price\":obj[3].text}\n",
    "    row=pd.Series(d)\n",
    "    row.name=i\n",
    "    df=df._append(row)\n",
    "    \n",
    "df"
   ]
  }
 ],
 "metadata": {
  "kernelspec": {
   "display_name": "Python 3 (ipykernel)",
   "language": "python",
   "name": "python3"
  },
  "language_info": {
   "codemirror_mode": {
    "name": "ipython",
    "version": 3
   },
   "file_extension": ".py",
   "mimetype": "text/x-python",
   "name": "python",
   "nbconvert_exporter": "python",
   "pygments_lexer": "ipython3",
   "version": "3.11.4"
  }
 },
 "nbformat": 4,
 "nbformat_minor": 5
}
