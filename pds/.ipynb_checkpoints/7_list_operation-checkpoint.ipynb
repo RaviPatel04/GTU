{
 "cells": [
  {
   "cell_type": "code",
   "execution_count": 1,
   "id": "2921b060-6e6f-4898-a40c-4c0de9eada56",
   "metadata": {},
   "outputs": [
    {
     "name": "stdout",
     "output_type": "stream",
     "text": [
      "[2, 1, 9, 3, 4, 0, 9]\n"
     ]
    }
   ],
   "source": [
    "l = []\n",
    "l.append(2)\n",
    "l.extend([1,3,4,0,9])\n",
    "l.insert(2, 9)\n",
    "print(l)"
   ]
  },
  {
   "cell_type": "code",
   "execution_count": 2,
   "id": "04978268-08b7-4cd2-8c1f-6e90cc521d7b",
   "metadata": {},
   "outputs": [
    {
     "name": "stdout",
     "output_type": "stream",
     "text": [
      "length of list 7\n",
      "value of index 2: 9\n",
      "occurance of elem at index 2: 2\n",
      "reverse list: [9, 0, 4, 3, 9, 1, 2]\n"
     ]
    }
   ],
   "source": [
    "print(f\"length of list {len(l)}\")\n",
    "print(f\"value of index 2: {l[2]}\")\n",
    "print(f\"occurance of elem at index 2: {l.count(l[2])}\")\n",
    "print(f\"reverse list: {l[::-1]}\")"
   ]
  },
  {
   "cell_type": "code",
   "execution_count": 3,
   "id": "fc0c2b23-1e4e-41c0-853a-2758ff784aae",
   "metadata": {},
   "outputs": [
    {
     "name": "stdout",
     "output_type": "stream",
     "text": [
      "mebership operator in :True\n",
      "mebership operator not in :False\n"
     ]
    }
   ],
   "source": [
    "print(f\"mebership operator in :{1 in l}\" )\n",
    "print(f\"mebership operator not in :{2 not in l}\")"
   ]
  },
  {
   "cell_type": "code",
   "execution_count": 4,
   "id": "afc79c71-adf9-4b2e-95d5-2250172df2a6",
   "metadata": {},
   "outputs": [
    {
     "name": "stdout",
     "output_type": "stream",
     "text": [
      "Deletion of elements\n",
      "pop element: 9\n",
      "[2, 1, 9, 4, 0]\n",
      "[]\n"
     ]
    }
   ],
   "source": [
    "print(\"Deletion of elements\")\n",
    "print(f\"pop element: {l.pop()}\")\n",
    "r = l.remove(3)\n",
    "print(l)\n",
    "l.clear()\n",
    "print(l)"
   ]
  },
  {
   "cell_type": "code",
   "execution_count": null,
   "id": "8a83b493-60c7-4423-92f9-0efbfb119a7d",
   "metadata": {},
   "outputs": [],
   "source": []
  }
 ],
 "metadata": {
  "kernelspec": {
   "display_name": "Python 3 (ipykernel)",
   "language": "python",
   "name": "python3"
  },
  "language_info": {
   "codemirror_mode": {
    "name": "ipython",
    "version": 3
   },
   "file_extension": ".py",
   "mimetype": "text/x-python",
   "name": "python",
   "nbconvert_exporter": "python",
   "pygments_lexer": "ipython3",
   "version": "3.11.4"
  }
 },
 "nbformat": 4,
 "nbformat_minor": 5
}
