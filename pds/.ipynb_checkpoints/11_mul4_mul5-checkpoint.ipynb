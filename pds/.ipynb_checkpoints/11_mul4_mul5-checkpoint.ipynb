{
 "cells": [
  {
   "cell_type": "code",
   "execution_count": 2,
   "id": "ed072a87-0db9-4219-b5cc-28959df47083",
   "metadata": {},
   "outputs": [
    {
     "name": "stdout",
     "output_type": "stream",
     "text": [
      "1\n",
      "2\n",
      "3\n",
      "Computer\n",
      "Department\n",
      "6\n",
      "7\n",
      "Computer\n",
      "9\n",
      "Department\n"
     ]
    }
   ],
   "source": [
    "for i in range(1, 11):\n",
    "    if i % 4 == 0:\n",
    "        print(\"Computer\")\n",
    "    elif i % 5 == 0:\n",
    "        print(\"Department\")\n",
    "    elif i % 5 == 0 and i % 4 == 0:\n",
    "        print(\"Computer Department\")\n",
    "    else:\n",
    "        print(i)\n",
    "          "
   ]
  }
 ],
 "metadata": {
  "kernelspec": {
   "display_name": "Python 3 (ipykernel)",
   "language": "python",
   "name": "python3"
  },
  "language_info": {
   "codemirror_mode": {
    "name": "ipython",
    "version": 3
   },
   "file_extension": ".py",
   "mimetype": "text/x-python",
   "name": "python",
   "nbconvert_exporter": "python",
   "pygments_lexer": "ipython3",
   "version": "3.11.4"
  }
 },
 "nbformat": 4,
 "nbformat_minor": 5
}
