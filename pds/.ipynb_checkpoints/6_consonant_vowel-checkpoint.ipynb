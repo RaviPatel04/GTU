{
 "cells": [
  {
   "cell_type": "code",
   "execution_count": 1,
   "id": "cb95fad6-e2f6-4657-a80d-7d34abf006f3",
   "metadata": {},
   "outputs": [
    {
     "name": "stdin",
     "output_type": "stream",
     "text": [
      "Enter a character:  k\n"
     ]
    }
   ],
   "source": [
    "char = input(\"Enter a character: \")\n"
   ]
  },
  {
   "cell_type": "code",
   "execution_count": 2,
   "id": "f1910e67-f777-4b98-b57c-b9b9aabe180d",
   "metadata": {},
   "outputs": [
    {
     "name": "stdout",
     "output_type": "stream",
     "text": [
      "k is consonant\n"
     ]
    }
   ],
   "source": [
    "if char.upper() in ['A', 'E', 'I', 'O', 'U']:\n",
    "    print(f\"{char} is Vowel\")\n",
    "else:\n",
    "    print(f\"{char} is consonant\")"
   ]
  }
 ],
 "metadata": {
  "kernelspec": {
   "display_name": "Python 3 (ipykernel)",
   "language": "python",
   "name": "python3"
  },
  "language_info": {
   "codemirror_mode": {
    "name": "ipython",
    "version": 3
   },
   "file_extension": ".py",
   "mimetype": "text/x-python",
   "name": "python",
   "nbconvert_exporter": "python",
   "pygments_lexer": "ipython3",
   "version": "3.11.4"
  }
 },
 "nbformat": 4,
 "nbformat_minor": 5
}
