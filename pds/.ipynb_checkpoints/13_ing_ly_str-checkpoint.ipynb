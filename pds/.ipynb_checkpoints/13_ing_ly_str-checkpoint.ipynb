{
 "cells": [
  {
   "cell_type": "code",
   "execution_count": 1,
   "id": "834d62f6-e407-49da-ac45-4db9e41afd45",
   "metadata": {},
   "outputs": [],
   "source": [
    "str = \"according\"\n"
   ]
  },
  {
   "cell_type": "code",
   "execution_count": 2,
   "id": "2de536d6-dd11-4771-9935-1428c1223939",
   "metadata": {},
   "outputs": [
    {
     "name": "stdout",
     "output_type": "stream",
     "text": [
      "accordingly\n"
     ]
    }
   ],
   "source": [
    "if len(str) >= 3:\n",
    "    if str[-3:] == \"ing\":\n",
    "        str = str + \"ly\"\n",
    "    else:\n",
    "        str = str + \"ing\"\n",
    "print(str)\n",
    "        "
   ]
  }
 ],
 "metadata": {
  "kernelspec": {
   "display_name": "Python 3 (ipykernel)",
   "language": "python",
   "name": "python3"
  },
  "language_info": {
   "codemirror_mode": {
    "name": "ipython",
    "version": 3
   },
   "file_extension": ".py",
   "mimetype": "text/x-python",
   "name": "python",
   "nbconvert_exporter": "python",
   "pygments_lexer": "ipython3",
   "version": "3.11.4"
  }
 },
 "nbformat": 4,
 "nbformat_minor": 5
}
