{
 "cells": [
  {
   "cell_type": "code",
   "execution_count": 1,
   "id": "9a067425-565d-4344-a068-e4ab9f065589",
   "metadata": {},
   "outputs": [],
   "source": [
    "def fibonacci(num):\n",
    "    a,b = 0,1\n",
    "    print(f\"fibonacci series of {num} terms: {a} {b}\", end=\" \")\n",
    "    for i in range(2, num):\n",
    "        c = a + b\n",
    "        a,b = b,c\n",
    "        print(c, end=\" \")"
   ]
  },
  {
   "cell_type": "code",
   "execution_count": 2,
   "id": "0ea9f8b7-6c42-41ab-ae61-147612fda1e2",
   "metadata": {},
   "outputs": [
    {
     "name": "stdout",
     "output_type": "stream",
     "text": [
      "fibonacci series of 7 terms: 0 1 1 2 3 5 8 "
     ]
    }
   ],
   "source": [
    "fib = fibonacci(7)"
   ]
  }
 ],
 "metadata": {
  "kernelspec": {
   "display_name": "Python 3 (ipykernel)",
   "language": "python",
   "name": "python3"
  },
  "language_info": {
   "codemirror_mode": {
    "name": "ipython",
    "version": 3
   },
   "file_extension": ".py",
   "mimetype": "text/x-python",
   "name": "python",
   "nbconvert_exporter": "python",
   "pygments_lexer": "ipython3",
   "version": "3.11.4"
  }
 },
 "nbformat": 4,
 "nbformat_minor": 5
}
