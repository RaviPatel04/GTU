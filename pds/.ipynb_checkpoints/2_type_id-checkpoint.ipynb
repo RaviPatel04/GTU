{
 "cells": [
  {
   "cell_type": "code",
   "execution_count": 6,
   "id": "8cd6eb8e-9f2e-4252-ae2b-7c1482e2e83b",
   "metadata": {},
   "outputs": [],
   "source": [
    "a = 2\n",
    "b = 2.0\n",
    "c = '2'\n",
    "d = True\n",
    "e = (0,1,2)\n",
    "f = [1,2,3]\n",
    "g = 4 + 5j"
   ]
  },
  {
   "cell_type": "code",
   "execution_count": 7,
   "id": "6b07151c-9c61-4ebc-ac31-c7d1fe21bc77",
   "metadata": {},
   "outputs": [
    {
     "name": "stdout",
     "output_type": "stream",
     "text": [
      "type() a : <class 'int'>, b : <class 'float'>, c : <class 'str'>, d : <class 'bool'>, e : <class 'tuple'>, f : <class 'list'>, g : <class 'complex'>\n"
     ]
    }
   ],
   "source": [
    "print(f\"type() a : {type(a)}, b : {type(b)}, c : {type(c)}, d : {type(d)}, e : {type(e)}, f : {type(f)}, g : {type(g)}\")"
   ]
  },
  {
   "cell_type": "code",
   "execution_count": 8,
   "id": "0e1becb9-e619-422c-8703-534cec93db57",
   "metadata": {},
   "outputs": [
    {
     "name": "stdout",
     "output_type": "stream",
     "text": [
      "id() a : 140732869108552, b : 2560986543184, c : 140732869151928, d : 140732867582824, e : 2560987287104, f : 2560987161792, g : 2560979696208\n"
     ]
    }
   ],
   "source": [
    "print(f\"id() a : {id(a)}, b : {id(b)}, c : {id(c)}, d : {id(d)}, e : {id(e)}, f : {id(f)}, g : {id(g)}\")"
   ]
  },
  {
   "cell_type": "code",
   "execution_count": null,
   "id": "c52f00ec-6015-42bf-a42c-8dcd3ab871bd",
   "metadata": {},
   "outputs": [],
   "source": []
  }
 ],
 "metadata": {
  "kernelspec": {
   "display_name": "Python 3 (ipykernel)",
   "language": "python",
   "name": "python3"
  },
  "language_info": {
   "codemirror_mode": {
    "name": "ipython",
    "version": 3
   },
   "file_extension": ".py",
   "mimetype": "text/x-python",
   "name": "python",
   "nbconvert_exporter": "python",
   "pygments_lexer": "ipython3",
   "version": "3.11.4"
  }
 },
 "nbformat": 4,
 "nbformat_minor": 5
}
