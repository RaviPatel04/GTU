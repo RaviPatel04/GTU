{
 "cells": [
  {
   "cell_type": "code",
   "execution_count": 1,
   "id": "42fc76e0-af4b-462a-b395-d07325186e6c",
   "metadata": {},
   "outputs": [],
   "source": [
    "def sumtrice(a, b, c):\n",
    "    if a == b == c:\n",
    "        return (a+b+c)*3\n",
    "    else:\n",
    "        return (a+b+c)\n"
   ]
  },
  {
   "cell_type": "code",
   "execution_count": 2,
   "id": "df84a2b1-c3c0-4cef-bf33-6279e3cbf000",
   "metadata": {},
   "outputs": [
    {
     "name": "stdout",
     "output_type": "stream",
     "text": [
      "6\n",
      "18\n"
     ]
    }
   ],
   "source": [
    "num = sumtrice(1,2,3)\n",
    "print(num)\n",
    "num = sumtrice(2,2,2)\n",
    "print(num)"
   ]
  },
  {
   "cell_type": "code",
   "execution_count": null,
   "id": "c89d9b35-37bf-4d40-9276-1273c910fab8",
   "metadata": {},
   "outputs": [],
   "source": []
  }
 ],
 "metadata": {
  "kernelspec": {
   "display_name": "Python 3 (ipykernel)",
   "language": "python",
   "name": "python3"
  },
  "language_info": {
   "codemirror_mode": {
    "name": "ipython",
    "version": 3
   },
   "file_extension": ".py",
   "mimetype": "text/x-python",
   "name": "python",
   "nbconvert_exporter": "python",
   "pygments_lexer": "ipython3",
   "version": "3.11.4"
  }
 },
 "nbformat": 4,
 "nbformat_minor": 5
}
