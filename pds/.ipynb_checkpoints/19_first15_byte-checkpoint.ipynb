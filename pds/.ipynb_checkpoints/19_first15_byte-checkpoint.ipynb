{
 "cells": [
  {
   "cell_type": "code",
   "execution_count": 4,
   "id": "22c2a721-3110-436c-96b8-c335aa96a927",
   "metadata": {},
   "outputs": [
    {
     "name": "stdout",
     "output_type": "stream",
     "text": [
      "b''\n",
      "b'H'\n",
      "b'el'\n",
      "b'lo '\n",
      "b'worl'\n",
      "b'd!!\\nZ'\n",
      "b'en of '\n",
      "b'python\\n'\n",
      "b'Now is b'\n",
      "b'etter tha'\n",
      "b'n never\\nEr'\n",
      "b'rors should'\n",
      "b' never pass '\n",
      "b'silently'\n",
      "b''\n"
     ]
    }
   ],
   "source": [
    "with open('length.txt', 'rb') as f:\n",
    "    for i in range(15):\n",
    "        print(f.read(i))\n",
    "        # b = f.read(1)\n",
    "        # if not b:\n",
    "        #     break\n",
    "        # print(ord(b))"
   ]
  },
  {
   "cell_type": "code",
   "execution_count": null,
   "id": "bd7059c0-b043-43b8-a8fb-56cc860a081a",
   "metadata": {},
   "outputs": [],
   "source": []
  }
 ],
 "metadata": {
  "kernelspec": {
   "display_name": "Python 3 (ipykernel)",
   "language": "python",
   "name": "python3"
  },
  "language_info": {
   "codemirror_mode": {
    "name": "ipython",
    "version": 3
   },
   "file_extension": ".py",
   "mimetype": "text/x-python",
   "name": "python",
   "nbconvert_exporter": "python",
   "pygments_lexer": "ipython3",
   "version": "3.11.4"
  }
 },
 "nbformat": 4,
 "nbformat_minor": 5
}
