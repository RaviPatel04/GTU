{
 "cells": [
  {
   "cell_type": "markdown",
   "id": "69faa68b-0ffa-43f7-a8c4-0ea9512eed7b",
   "metadata": {},
   "source": [
    "***Practical 35***"
   ]
  },
  {
   "cell_type": "markdown",
   "id": "9e3dee2c-4585-4e7c-b953-7c5864b7b3d1",
   "metadata": {},
   "source": [
    "**Write a python program to print telephone numbers placed in sentences using regular expressions.**"
   ]
  },
  {
   "cell_type": "code",
   "execution_count": 1,
   "id": "6ccf3132-f667-466c-9f92-4e938abab090",
   "metadata": {},
   "outputs": [
    {
     "name": "stdout",
     "output_type": "stream",
     "text": [
      "261-257-3552\n",
      "261-257-4523\n"
     ]
    }
   ],
   "source": [
    "import re \n",
    "data1 = 'My phone number is: 0261-257-3552.'\n",
    "data2 = '0261-257-4523 is my phone number.'\n",
    "pattern = r'\\d{3}-\\d{3}-\\d{4}'\n",
    "m1=re.search(pattern,data1) \n",
    "print(m1.group()) \n",
    "m2=re.search(pattern,data2) \n",
    "print(m2.group())"
   ]
  }
 ],
 "metadata": {
  "kernelspec": {
   "display_name": "Python 3 (ipykernel)",
   "language": "python",
   "name": "python3"
  },
  "language_info": {
   "codemirror_mode": {
    "name": "ipython",
    "version": 3
   },
   "file_extension": ".py",
   "mimetype": "text/x-python",
   "name": "python",
   "nbconvert_exporter": "python",
   "pygments_lexer": "ipython3",
   "version": "3.11.4"
  }
 },
 "nbformat": 4,
 "nbformat_minor": 5
}
