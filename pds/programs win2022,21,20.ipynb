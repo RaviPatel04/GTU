{
 "cells": [
  {
   "cell_type": "markdown",
   "id": "a830b620-b149-45c7-8d7d-956f274bfc42",
   "metadata": {},
   "source": [
    "**Write a python program to implement Fibonacci sequence for given input.**"
   ]
  },
  {
   "cell_type": "code",
   "execution_count": 17,
   "id": "d00c4de7-85d9-438e-a173-889a547a5e56",
   "metadata": {},
   "outputs": [
    {
     "name": "stdin",
     "output_type": "stream",
     "text": [
      "Enter a num:  7\n"
     ]
    },
    {
     "name": "stdout",
     "output_type": "stream",
     "text": [
      "fibonacci series of 7 terms: 0 1 1 2 3 5 8 "
     ]
    }
   ],
   "source": [
    "def fibonacci(num):\n",
    "    a,b = 0,1\n",
    "    print(f\"fibonacci series of {num} terms: {a} {b}\", end=\" \")\n",
    "    for i in range(2, num):\n",
    "        c = a + b\n",
    "        a,b = b,c\n",
    "        print(c, end=\" \")\n",
    "\n",
    "num = int(input(\"Enter a num: \"))\n",
    "fib = fibonacci(num)"
   ]
  },
  {
   "cell_type": "markdown",
   "id": "54e9193d-2fdc-4abf-ae77-1471a4fb8d4d",
   "metadata": {},
   "source": [
    "**Write a python program to find the factorial of a given number using recursion.**"
   ]
  },
  {
   "cell_type": "code",
   "execution_count": 2,
   "id": "d1fef14a-8653-4250-a8fe-5c20f71e2ccf",
   "metadata": {},
   "outputs": [
    {
     "name": "stdin",
     "output_type": "stream",
     "text": [
      "Enter a num:  5\n"
     ]
    },
    {
     "name": "stdout",
     "output_type": "stream",
     "text": [
      "fcatorial of 5 is 120\n"
     ]
    }
   ],
   "source": [
    "num = int(input(\"Enter a num: \"))\n",
    "def factorial(n):\n",
    "    if n != 0:\n",
    "        return n * factorial(n-1)\n",
    "    else:\n",
    "        return 1\n",
    "\n",
    "fact = factorial(num)\n",
    "print(f\"fcatorial of {num} is {fact}\")"
   ]
  },
  {
   "cell_type": "markdown",
   "id": "cb358ff8-2e91-4aed-8d14-c188ad5bc6fd",
   "metadata": {},
   "source": [
    "**Write a python code to find the factorial of a number using a function.**"
   ]
  },
  {
   "cell_type": "code",
   "execution_count": 15,
   "id": "35a3d7e6-c7eb-4e2e-8c25-c6b20ac956d2",
   "metadata": {},
   "outputs": [
    {
     "name": "stdin",
     "output_type": "stream",
     "text": [
      "Enter a number:  6\n"
     ]
    },
    {
     "name": "stdout",
     "output_type": "stream",
     "text": [
      "The factorial of 6 is: 720\n"
     ]
    }
   ],
   "source": [
    "def factorial(n):\n",
    "    fcat = 1\n",
    "    for i in range(1, n + 1):\n",
    "        fcat *= i\n",
    "    return fcat\n",
    "\n",
    "num = int(input(\"Enter a number: \"))\n",
    "fcat = factorial(num)\n",
    "print(f\"The factorial of {num} is: {fcat}\")"
   ]
  },
  {
   "cell_type": "code",
   "execution_count": null,
   "id": "68ae063d-00c0-4eb2-9691-e989a3c951a1",
   "metadata": {},
   "outputs": [],
   "source": []
  }
 ],
 "metadata": {
  "kernelspec": {
   "display_name": "Python 3 (ipykernel)",
   "language": "python",
   "name": "python3"
  },
  "language_info": {
   "codemirror_mode": {
    "name": "ipython",
    "version": 3
   },
   "file_extension": ".py",
   "mimetype": "text/x-python",
   "name": "python",
   "nbconvert_exporter": "python",
   "pygments_lexer": "ipython3",
   "version": "3.11.4"
  }
 },
 "nbformat": 4,
 "nbformat_minor": 5
}
