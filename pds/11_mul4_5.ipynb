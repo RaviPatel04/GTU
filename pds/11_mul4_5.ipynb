{
 "cells": [
  {
   "cell_type": "code",
   "execution_count": 1,
   "id": "ed072a87-0db9-4219-b5cc-28959df47083",
   "metadata": {},
   "outputs": [
    {
     "name": "stdout",
     "output_type": "stream",
     "text": [
      "Computer 4\n",
      "Department 5\n",
      "Computer 8\n",
      "Department 10\n"
     ]
    }
   ],
   "source": [
    "for i in range(1, 11):\n",
    "    if i % 4 == 0:\n",
    "        print(\"Computer\", i)\n",
    "    elif i % 5 == 0:\n",
    "        print(\"Department\",i)\n",
    "    elif i % 5 == 0 and i % 3 == 0:\n",
    "        print(\"Computer Department\",i)\n",
    "          "
   ]
  }
 ],
 "metadata": {
  "kernelspec": {
   "display_name": "Python 3 (ipykernel)",
   "language": "python",
   "name": "python3"
  },
  "language_info": {
   "codemirror_mode": {
    "name": "ipython",
    "version": 3
   },
   "file_extension": ".py",
   "mimetype": "text/x-python",
   "name": "python",
   "nbconvert_exporter": "python",
   "pygments_lexer": "ipython3",
   "version": "3.11.4"
  }
 },
 "nbformat": 4,
 "nbformat_minor": 5
}
