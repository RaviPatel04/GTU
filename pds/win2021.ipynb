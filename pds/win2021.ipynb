{
 "cells": [
  {
   "cell_type": "markdown",
   "id": "451c75c5-8e25-47c4-b5e9-e9d10a400ca8",
   "metadata": {},
   "source": [
    "**Explain Slicing rows and columns with examples.**"
   ]
  },
  {
   "cell_type": "code",
   "execution_count": 5,
   "id": "1875cb9d-f422-4088-9a9d-55d6944279d5",
   "metadata": {},
   "outputs": [
    {
     "name": "stdout",
     "output_type": "stream",
     "text": [
      "      Name  Age     City\n",
      "0    Alice   25       NY\n",
      "1      Bob   30       SF\n",
      "2  Charlie   22       LA\n",
      "3    David   35  Chicago\n",
      "Sliced Rows:\n",
      "      Name  Age City\n",
      "1      Bob   30   SF\n",
      "2  Charlie   22   LA\n",
      "\n",
      "Sliced Columns:\n",
      "      Name  Age\n",
      "0    Alice   25\n",
      "1      Bob   30\n",
      "2  Charlie   22\n",
      "3    David   35\n"
     ]
    }
   ],
   "source": [
    "import pandas as pd\n",
    "\n",
    "# Create a DataFrame\n",
    "data = {'Name': ['Alice', 'Bob', 'Charlie', 'David'],\n",
    "        'Age': [25, 30, 22, 35],\n",
    "        'City': ['NY', 'SF', 'LA', 'Chicago']}\n",
    "\n",
    "df = pd.DataFrame(data)\n",
    "print(df)\n",
    "# Slicing rows\n",
    "row_slice_df = df.iloc[1:3, :]\n",
    "print(\"Sliced Rows:\")\n",
    "print(row_slice_df)\n",
    "\n",
    "# Slicing columns\n",
    "col_slice_df = df.loc[:, ['Name', 'Age']]\n",
    "print(\"\\nSliced Columns:\")\n",
    "print(col_slice_df)\n"
   ]
  },
  {
   "cell_type": "markdown",
   "id": "fc0021b3-825b-44c7-a487-d4a0d33cff17",
   "metadata": {},
   "source": [
    "**What do you mean by missing values? Explain the different ways to handle the missing value with examples.**"
   ]
  },
  {
   "cell_type": "code",
   "execution_count": 15,
   "id": "a3dd18b1-65f7-464b-b6cb-b756cf43fdfe",
   "metadata": {},
   "outputs": [
    {
     "data": {
      "text/html": [
       "<div>\n",
       "<style scoped>\n",
       "    .dataframe tbody tr th:only-of-type {\n",
       "        vertical-align: middle;\n",
       "    }\n",
       "\n",
       "    .dataframe tbody tr th {\n",
       "        vertical-align: top;\n",
       "    }\n",
       "\n",
       "    .dataframe thead th {\n",
       "        text-align: right;\n",
       "    }\n",
       "</style>\n",
       "<table border=\"1\" class=\"dataframe\">\n",
       "  <thead>\n",
       "    <tr style=\"text-align: right;\">\n",
       "      <th></th>\n",
       "      <th>A</th>\n",
       "      <th>B</th>\n",
       "    </tr>\n",
       "  </thead>\n",
       "  <tbody>\n",
       "    <tr>\n",
       "      <th>0</th>\n",
       "      <td>1.0</td>\n",
       "      <td>10.0</td>\n",
       "    </tr>\n",
       "    <tr>\n",
       "      <th>1</th>\n",
       "      <td>2.0</td>\n",
       "      <td>20.0</td>\n",
       "    </tr>\n",
       "    <tr>\n",
       "      <th>4</th>\n",
       "      <td>5.0</td>\n",
       "      <td>50.0</td>\n",
       "    </tr>\n",
       "  </tbody>\n",
       "</table>\n",
       "</div>"
      ],
      "text/plain": [
       "     A     B\n",
       "0  1.0  10.0\n",
       "1  2.0  20.0\n",
       "4  5.0  50.0"
      ]
     },
     "execution_count": 15,
     "metadata": {},
     "output_type": "execute_result"
    }
   ],
   "source": [
    "import pandas as pd\n",
    "\n",
    "# Example DataFrame with missing values\n",
    "data = {'A': [1, 2, None, 4, 5],\n",
    "        'B': [10, 20, 30, None, 50]}\n",
    "df = pd.DataFrame(data)\n",
    "\n",
    "# Listwise deletion (remove rows with any missing value)\n",
    "df = df.dropna()\n",
    "df"
   ]
  },
  {
   "cell_type": "code",
   "execution_count": 18,
   "id": "40ad5de0-7f79-4cf8-90b8-7f62dcf07968",
   "metadata": {},
   "outputs": [
    {
     "data": {
      "text/html": [
       "<div>\n",
       "<style scoped>\n",
       "    .dataframe tbody tr th:only-of-type {\n",
       "        vertical-align: middle;\n",
       "    }\n",
       "\n",
       "    .dataframe tbody tr th {\n",
       "        vertical-align: top;\n",
       "    }\n",
       "\n",
       "    .dataframe thead th {\n",
       "        text-align: right;\n",
       "    }\n",
       "</style>\n",
       "<table border=\"1\" class=\"dataframe\">\n",
       "  <thead>\n",
       "    <tr style=\"text-align: right;\">\n",
       "      <th></th>\n",
       "      <th>A</th>\n",
       "      <th>B</th>\n",
       "    </tr>\n",
       "  </thead>\n",
       "  <tbody>\n",
       "    <tr>\n",
       "      <th>0</th>\n",
       "      <td>1.0</td>\n",
       "      <td>10.0</td>\n",
       "    </tr>\n",
       "    <tr>\n",
       "      <th>1</th>\n",
       "      <td>2.0</td>\n",
       "      <td>20.0</td>\n",
       "    </tr>\n",
       "    <tr>\n",
       "      <th>2</th>\n",
       "      <td>3.0</td>\n",
       "      <td>30.0</td>\n",
       "    </tr>\n",
       "    <tr>\n",
       "      <th>3</th>\n",
       "      <td>4.0</td>\n",
       "      <td>27.5</td>\n",
       "    </tr>\n",
       "    <tr>\n",
       "      <th>4</th>\n",
       "      <td>5.0</td>\n",
       "      <td>50.0</td>\n",
       "    </tr>\n",
       "  </tbody>\n",
       "</table>\n",
       "</div>"
      ],
      "text/plain": [
       "     A     B\n",
       "0  1.0  10.0\n",
       "1  2.0  20.0\n",
       "2  3.0  30.0\n",
       "3  4.0  27.5\n",
       "4  5.0  50.0"
      ]
     },
     "execution_count": 18,
     "metadata": {},
     "output_type": "execute_result"
    }
   ],
   "source": [
    "# Example DataFrame with missing values\n",
    "data = {'A': [1, 2, None, 4, 5],\n",
    "        'B': [10, 20, 30, None, 50]}\n",
    "df = pd.DataFrame(data)\n",
    "\n",
    "# Impute missing values with mean\n",
    "df = df.fillna(df.mean())\n",
    "df"
   ]
  },
  {
   "cell_type": "code",
   "execution_count": 7,
   "id": "5e90bf46-d906-43d7-b4ec-49a3ba09d3d4",
   "metadata": {},
   "outputs": [
    {
     "data": {
      "text/html": [
       "<div>\n",
       "<style scoped>\n",
       "    .dataframe tbody tr th:only-of-type {\n",
       "        vertical-align: middle;\n",
       "    }\n",
       "\n",
       "    .dataframe tbody tr th {\n",
       "        vertical-align: top;\n",
       "    }\n",
       "\n",
       "    .dataframe thead th {\n",
       "        text-align: right;\n",
       "    }\n",
       "</style>\n",
       "<table border=\"1\" class=\"dataframe\">\n",
       "  <thead>\n",
       "    <tr style=\"text-align: right;\">\n",
       "      <th></th>\n",
       "      <th>A</th>\n",
       "      <th>B</th>\n",
       "      <th>A_missing</th>\n",
       "      <th>B_missing</th>\n",
       "    </tr>\n",
       "  </thead>\n",
       "  <tbody>\n",
       "    <tr>\n",
       "      <th>0</th>\n",
       "      <td>1.0</td>\n",
       "      <td>10.0</td>\n",
       "      <td>0</td>\n",
       "      <td>0</td>\n",
       "    </tr>\n",
       "    <tr>\n",
       "      <th>1</th>\n",
       "      <td>2.0</td>\n",
       "      <td>20.0</td>\n",
       "      <td>0</td>\n",
       "      <td>0</td>\n",
       "    </tr>\n",
       "    <tr>\n",
       "      <th>2</th>\n",
       "      <td>NaN</td>\n",
       "      <td>30.0</td>\n",
       "      <td>1</td>\n",
       "      <td>0</td>\n",
       "    </tr>\n",
       "    <tr>\n",
       "      <th>3</th>\n",
       "      <td>4.0</td>\n",
       "      <td>NaN</td>\n",
       "      <td>0</td>\n",
       "      <td>1</td>\n",
       "    </tr>\n",
       "    <tr>\n",
       "      <th>4</th>\n",
       "      <td>5.0</td>\n",
       "      <td>50.0</td>\n",
       "      <td>0</td>\n",
       "      <td>0</td>\n",
       "    </tr>\n",
       "  </tbody>\n",
       "</table>\n",
       "</div>"
      ],
      "text/plain": [
       "     A     B  A_missing  B_missing\n",
       "0  1.0  10.0          0          0\n",
       "1  2.0  20.0          0          0\n",
       "2  NaN  30.0          1          0\n",
       "3  4.0   NaN          0          1\n",
       "4  5.0  50.0          0          0"
      ]
     },
     "execution_count": 7,
     "metadata": {},
     "output_type": "execute_result"
    }
   ],
   "source": [
    "# Example DataFrame with missing values\n",
    "data = {'A': [1, 2, None, 4, 5],\n",
    "        'B': [10, 20, 30, None, 50]}\n",
    "df = pd.DataFrame(data)\n",
    "\n",
    "# Create a marker variable indicating missing values\n",
    "df['A_missing'] = df['A'].isnull().astype(int)\n",
    "df['B_missing'] = df['B'].isnull().astype(int)\n",
    "df"
   ]
  },
  {
   "cell_type": "markdown",
   "id": "8f5cb297-1dc7-4e1c-bb46-17307933c383",
   "metadata": {},
   "source": [
    "**What are Categorical Variables? Explain it with an example.**"
   ]
  },
  {
   "cell_type": "code",
   "execution_count": 8,
   "id": "81a8c689-381c-46c9-9eed-1831675a392b",
   "metadata": {},
   "outputs": [
    {
     "name": "stdout",
     "output_type": "stream",
     "text": [
      "Original DataFrame:\n",
      "   Gender  Color\n",
      "0    Male    Red\n",
      "1  Female   Blue\n",
      "2    Male  Green\n",
      "3  Female    Red\n",
      "4    Male  Green\n",
      "\n",
      "\n",
      "DataFrame with Categorical Variables:\n",
      "   Gender  Color\n",
      "0    Male    Red\n",
      "1  Female   Blue\n",
      "2    Male  Green\n",
      "3  Female    Red\n",
      "4    Male  Green\n",
      "\n",
      "\n",
      "Categorical Information:\n",
      "category\n",
      "category\n"
     ]
    }
   ],
   "source": [
    "import pandas as pd\n",
    "\n",
    "# Creating a DataFrame with categorical variables\n",
    "data = {'Gender': ['Male', 'Female', 'Male', 'Female', 'Male'],\n",
    "        'Color': ['Red', 'Blue', 'Green', 'Red', 'Green']}\n",
    "\n",
    "df = pd.DataFrame(data)\n",
    "\n",
    "# Displaying the DataFrame\n",
    "print(\"Original DataFrame:\")\n",
    "print(df)\n",
    "print(\"\\n\")\n",
    "\n",
    "# Convert specific columns to categorical variables\n",
    "df['Gender'] = pd.Categorical(df['Gender'], categories=['Male', 'Female'])\n",
    "df['Color'] = pd.Categorical(df['Color'], categories=['Red', 'Blue', 'Green'])\n",
    "\n",
    "\n",
    "# Displaying the updated DataFrame with categorical variables\n",
    "print(\"DataFrame with Categorical Variables:\")\n",
    "print(df)\n",
    "print(\"\\n\")\n",
    "\n",
    "# Accessing categorical information\n",
    "print(\"Categorical Information:\")\n",
    "print(df['Gender'].dtype)  # Displays 'category'\n",
    "print(df['Color'].dtype)   # Displays 'category'\n",
    "\n"
   ]
  },
  {
   "cell_type": "markdown",
   "id": "3bfcfd5d-4e67-44dc-972f-bb5fb22c7c45",
   "metadata": {},
   "source": [
    "**What is the use of following operations on Pandas Data Frames? Explain with a small example of each. 1. shape 2. tail() 3. describe().**"
   ]
  },
  {
   "cell_type": "code",
   "execution_count": 17,
   "id": "2d09991a-ff79-49ca-bb8b-6b7ef22aa376",
   "metadata": {},
   "outputs": [
    {
     "name": "stdout",
     "output_type": "stream",
     "text": [
      "DataFrame Shape: (5, 3)\n",
      "Last 3 Rows:\n",
      "       Name  Age         City\n",
      "2  Charlie   35  Los Angeles\n",
      "3    David   28      Chicago\n",
      "4      Eva   22        Miami\n",
      "Descriptive Statistics:\n",
      "              Age\n",
      "count   5.000000\n",
      "mean   28.000000\n",
      "std     4.949747\n",
      "min    22.000000\n",
      "25%    25.000000\n",
      "50%    28.000000\n",
      "75%    30.000000\n",
      "max    35.000000\n"
     ]
    }
   ],
   "source": [
    "import pandas as pd\n",
    "\n",
    "# Create a sample DataFrame\n",
    "data = {'Name': ['Alice', 'Bob', 'Charlie', 'David', 'Eva'],\n",
    "        'Age': [25, 30, 35, 28, 22],\n",
    "        'City': ['New York', 'San Francisco', 'Los Angeles', 'Chicago', 'Miami']}\n",
    "df = pd.DataFrame(data)\n",
    "\n",
    "print(\"DataFrame Shape:\",df.shape)\n",
    "\n",
    "print(\"Last 3 Rows:\\n\",df.tail(3))\n",
    "\n",
    "print(\"Descriptive Statistics:\\n\",df.describe())\n"
   ]
  },
  {
   "cell_type": "markdown",
   "id": "21f1739e-41a6-4666-85ef-ef8306fc8469",
   "metadata": {},
   "source": [
    "**Explain hist() function with code.**\n"
   ]
  },
  {
   "cell_type": "code",
   "execution_count": 12,
   "id": "70889a5d-dc5b-46ba-823f-756cdd7da1c5",
   "metadata": {},
   "outputs": [
    {
     "data": {
      "image/png": "[encoded data removed]",
      "text/plain": [
       "<Figure size 640x480 with 1 Axes>"
      ]
     },
     "metadata": {},
     "output_type": "display_data"
    }
   ],
   "source": [
    "import matplotlib.pyplot as plt\n",
    "import numpy as np\n",
    "\n",
    "# Generating some random data for demonstration\n",
    "data = np.random.randn(1000)\n",
    "\n",
    "# Creating a histogram using Matplotlib's hist function\n",
    "plt.hist(data, bins=30, color='blue', edgecolor='black',histtype='bar')\n",
    "\n",
    "# Adding labels and title to the plot\n",
    "plt.xlabel('Values')\n",
    "plt.ylabel('Frequency')\n",
    "plt.title('Histogram Example')\n",
    "\n",
    "# Displaying the plot\n",
    "plt.show()\n"
   ]
  },
  {
   "cell_type": "markdown",
   "id": "ce6dca96-b962-49d5-a7ea-d2d5ab091748",
   "metadata": {},
   "source": [
    "**Write a program using Numpy to count number of “C” element wise in a given array**"
   ]
  },
  {
   "cell_type": "code",
   "execution_count": 19,
   "id": "1a345db8-6a38-498b-92f7-35ab575175f4",
   "metadata": {},
   "outputs": [
    {
     "name": "stdout",
     "output_type": "stream",
     "text": [
      "1D array: 4\n",
      "2D array Number of 'C' elements per column: [1 0 2 1]\n"
     ]
    }
   ],
   "source": [
    "import numpy as np\n",
    "\n",
    "# Sample NumPy array\n",
    "arr = np.array([\n",
    "    ['A', 'B', 'C', 'A'],\n",
    "    ['C', 'B', 'C', 'A'],\n",
    "    ['A', 'B', 'A', 'C']\n",
    "])\n",
    "arr1 = np.array(['C', 'C', 'A', 'B', 'C', 'C'])\n",
    "\n",
    "# Count occurrences of 'C' element-wise\n",
    "count = np.count_nonzero(arr1 == 'C')\n",
    "count_per_column = np.count_nonzero(arr == 'C', axis=0)\n",
    "\n",
    "\n",
    "print(f\"1D array: {count}\")\n",
    "print(f\"2D array Number of 'C' elements per column: {count_per_column}\")\n"
   ]
  },
  {
   "cell_type": "markdown",
   "id": "85e3bd07-4c2b-49e1-91c4-4c917192c39b",
   "metadata": {},
   "source": [
    "**Explain bar() function with code.**"
   ]
  },
  {
   "cell_type": "code",
   "execution_count": 26,
   "id": "b03fdd0a-0efa-4868-992f-e283e325a90b",
   "metadata": {},
   "outputs": [
    {
     "data": {
      "text/plain": [
       "<matplotlib.legend.Legend at 0x13bc30ddfd0>"
      ]
     },
     "execution_count": 26,
     "metadata": {},
     "output_type": "execute_result"
    },
    {
     "data": {
      "image/png": "[encoded data removed]",
      "text/plain": [
       "<Figure size 640x480 with 1 Axes>"
      ]
     },
     "metadata": {},
     "output_type": "display_data"
    }
   ],
   "source": [
    "import matplotlib.pyplot as plt\n",
    "x = [\"Python\",\"Java\",\"c\",\"c++\",\"Mojo\"]\n",
    "y = [4.8,4.4,3.7,3.2,2]\n",
    "plt.xlabel(\"Language\",fontsize = 12)\n",
    "plt.ylabel(\"Rating\",fontsize = 12)\n",
    "plt.title(\"Most like language\")\n",
    "plt.bar(x,y,width = .5,color = [\"r\",\"b\",\"g\",\"y\",\"c\"],align = \"edge\",edgecolor = \"k\",linewidth = 2,label = \"Most like lang.\")\n",
    "plt.legend()"
   ]
  },
  {
   "cell_type": "markdown",
   "id": "b81b6874-22e6-4b55-8c5d-eedc3f87b6c5",
   "metadata": {},
   "source": [
    "**What are the different ways to remove duplicate values from \n",
    "dataset?**"
   ]
  },
  {
   "cell_type": "code",
   "execution_count": 39,
   "id": "9cf45b07-58ba-4322-8bb8-6892b2e95a01",
   "metadata": {},
   "outputs": [
    {
     "name": "stdout",
     "output_type": "stream",
     "text": [
      "   A  B\n",
      "0  1  a\n",
      "1  2  b\n",
      "3  3  c\n",
      "4  4  d\n",
      "6  5  e\n"
     ]
    }
   ],
   "source": [
    "import pandas as pd\n",
    "\n",
    "# Create a sample dataset with duplicate values\n",
    "data = pd.DataFrame({'A': [1, 2, 2, 3, 4, 4, 5], 'B': ['a', 'b', 'b', 'c', 'd', 'd', 'e']})\n",
    "unique_data = data.drop_duplicates()\n",
    "print(unique_data)\n"
   ]
  },
  {
   "cell_type": "code",
   "execution_count": 46,
   "id": "292a0ee1-9e36-4a4a-9bf6-b30ae5a5e374",
   "metadata": {},
   "outputs": [
    {
     "data": {
      "text/plain": [
       "0    1\n",
       "1    2\n",
       "2    3\n",
       "3    4\n",
       "4    5\n",
       "dtype: int64"
      ]
     },
     "execution_count": 46,
     "metadata": {},
     "output_type": "execute_result"
    }
   ],
   "source": [
    "import pandas as pd\n",
    "\n",
    "my_series = pd.Series([1, 2, 2, 3, 4, 4, 5])\n",
    "unique_series = pd.Series(pd.unique(my_series))\n",
    "unique_series"
   ]
  },
  {
   "cell_type": "code",
   "execution_count": 53,
   "id": "fdf1577e-a6ad-4ace-98ac-72ac7529b846",
   "metadata": {},
   "outputs": [
    {
     "data": {
      "text/html": [
       "<div>\n",
       "<style scoped>\n",
       "    .dataframe tbody tr th:only-of-type {\n",
       "        vertical-align: middle;\n",
       "    }\n",
       "\n",
       "    .dataframe tbody tr th {\n",
       "        vertical-align: top;\n",
       "    }\n",
       "\n",
       "    .dataframe thead th {\n",
       "        text-align: right;\n",
       "    }\n",
       "</style>\n",
       "<table border=\"1\" class=\"dataframe\">\n",
       "  <thead>\n",
       "    <tr style=\"text-align: right;\">\n",
       "      <th></th>\n",
       "      <th>0</th>\n",
       "    </tr>\n",
       "  </thead>\n",
       "  <tbody>\n",
       "    <tr>\n",
       "      <th>0</th>\n",
       "      <td>1</td>\n",
       "    </tr>\n",
       "    <tr>\n",
       "      <th>1</th>\n",
       "      <td>2</td>\n",
       "    </tr>\n",
       "    <tr>\n",
       "      <th>2</th>\n",
       "      <td>3</td>\n",
       "    </tr>\n",
       "    <tr>\n",
       "      <th>3</th>\n",
       "      <td>4</td>\n",
       "    </tr>\n",
       "    <tr>\n",
       "      <th>4</th>\n",
       "      <td>5</td>\n",
       "    </tr>\n",
       "  </tbody>\n",
       "</table>\n",
       "</div>"
      ],
      "text/plain": [
       "   0\n",
       "0  1\n",
       "1  2\n",
       "2  3\n",
       "3  4\n",
       "4  5"
      ]
     },
     "execution_count": 53,
     "metadata": {},
     "output_type": "execute_result"
    }
   ],
   "source": [
    "unique_names = pd.DataFrame(set(data['A']))\n",
    "unique_names"
   ]
  },
  {
   "cell_type": "code",
   "execution_count": null,
   "id": "420f07b9-36ff-48b0-8c29-e024d2fa08a1",
   "metadata": {},
   "outputs": [],
   "source": []
  },
  {
   "cell_type": "code",
   "execution_count": 84,
   "id": "f4e8ada1-abda-4195-98ca-778fd88099f6",
   "metadata": {},
   "outputs": [
    {
     "data": {
      "image/png": "[encoded data removed]",
      "text/plain": [
       "<Figure size 640x480 with 1 Axes>"
      ]
     },
     "metadata": {},
     "output_type": "display_data"
    }
   ],
   "source": [
    "import matplotlib.pyplot as plt\n",
    "\n",
    "x = [1, 2, 3, 4]\n",
    "y = [1, 4, 9, 16]\n",
    "\n",
    "plt.plot(x, y, marker='h')\n",
    " \n",
    "plt.xlabel('X-axis', fontsize = 12)\n",
    "plt.ylabel('Y-axis', fontsize = 12)\n",
    "plt.title('Simple Line Graph')\n",
    "\n",
    "plt.show()\n"
   ]
  },
  {
   "cell_type": "markdown",
   "id": "8c223737-4bc1-49e0-854c-ee9521b18bbe",
   "metadata": {},
   "source": [
    "**Explain Box plot with example.**"
   ]
  },
  {
   "cell_type": "code",
   "execution_count": 87,
   "id": "ac25f7f9-ece0-4b7c-bd4d-503e754b79e8",
   "metadata": {},
   "outputs": [
    {
     "data": {
      "image/png": "[encoded data removed]",
      "text/plain": [
       "<Figure size 640x480 with 1 Axes>"
      ]
     },
     "metadata": {},
     "output_type": "display_data"
    }
   ],
   "source": [
    "import matplotlib.pyplot as plt\n",
    "x = [10,20,30,40,50,100]\n",
    "plt.boxplot(x,labels = [\"1st\"],patch_artist = True,whis = 2,sym = \"r\")\n",
    "plt.show()"
   ]
  },
  {
   "cell_type": "markdown",
   "id": "c156b554-809a-403c-b4fa-c327abf368fe",
   "metadata": {},
   "source": [
    "**Write a Python programming to create a pie chart with a title of \n",
    "the popularity of programming Languages. \n",
    "Sample data:\n",
    "Programming languages: Java, Python, PHP, JavaScript, C#, \n",
    "C++\n",
    "Popularity: 22.2, 17.6, 8.8, 8, 7.7, 6.7**"
   ]
  },
  {
   "cell_type": "code",
   "execution_count": 2,
   "id": "dadf20a7-9d5a-4178-922a-e86a2ae9bb24",
   "metadata": {},
   "outputs": [
    {
     "data": {
      "image/png": "[encoded data removed]",
      "text/plain": [
       "<Figure size 640x480 with 1 Axes>"
      ]
     },
     "metadata": {},
     "output_type": "display_data"
    }
   ],
   "source": [
    "import matplotlib.pyplot as plt\n",
    "\n",
    "x = [22.2,17.6,8.8,8,7.7,6.7]\n",
    "y = [\"Java\",\"Python\",\"PHP\",\"JavaScript\",\"C#\",\"C++\"]\n",
    "c = [\"b\",\"r\",\"g\",\"y\",\"m\",\"c\"]\n",
    "plt.pie(x,labels = y, colors = c, autopct = \"%0.1f%%\", labeldistance = 1.12)\n",
    "plt.show()\n"
   ]
  },
  {
   "cell_type": "markdown",
   "id": "f5c8a572-1315-4a0e-b2b1-ffc6c47d8b09",
   "metadata": {},
   "source": [
    "**Explain scatterplots with example**"
   ]
  },
  {
   "cell_type": "code",
   "execution_count": 14,
   "id": "b11b7f01-afeb-47fa-80ec-8b2eef02afcc",
   "metadata": {},
   "outputs": [
    {
     "data": {
      "image/png": "[encoded data removed]",
      "text/plain": [
       "<Figure size 640x480 with 1 Axes>"
      ]
     },
     "metadata": {},
     "output_type": "display_data"
    }
   ],
   "source": [
    "import matplotlib.pyplot as plt\n",
    "x = [1,2,3,4,5,6]\n",
    "y = [4,6,5,3,1,2]\n",
    "plt.scatter(x,y,color = \"g\",marker = \"*\",edgecolor = \"k\",linewidth = 1,s = 100)\n",
    "plt.title(\"Scatter Plot\",fontsize = 15)\n",
    "plt.xlabel(\"Day\",fontsize = 15)\n",
    "plt.ylabel(\"No.\",fontsize = 15)\n",
    "plt.show()"
   ]
  },
  {
   "cell_type": "code",
   "execution_count": null,
   "id": "47c1b7b1-5f77-47dd-b93f-c5d7bb8b8025",
   "metadata": {},
   "outputs": [],
   "source": []
  }
 ],
 "metadata": {
  "kernelspec": {
   "display_name": "Python 3 (ipykernel)",
   "language": "python",
   "name": "python3"
  },
  "language_info": {
   "codemirror_mode": {
    "name": "ipython",
    "version": 3
   },
   "file_extension": ".py",
   "mimetype": "text/x-python",
   "name": "python",
   "nbconvert_exporter": "python",
   "pygments_lexer": "ipython3",
   "version": "3.11.4"
  }
 },
 "nbformat": 4,
 "nbformat_minor": 5
}
