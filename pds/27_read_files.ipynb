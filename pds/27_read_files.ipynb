{
 "cells": [
  {
   "cell_type": "markdown",
   "id": "2a723a57-7191-4fbd-805f-37cc3d24b3e8",
   "metadata": {},
   "source": [
    "***Practical 27***\n"
   ]
  },
  {
   "cell_type": "markdown",
   "id": "1fe55473-fd9c-4a90-bc2e-178ac7ea9970",
   "metadata": {},
   "source": [
    "** Read content of text file using uploading, streaming\n",
    "and sampling methods from “Colors.txt” file**"
   ]
  },
  {
   "cell_type": "markdown",
   "id": "1ce8c8d7-8dbd-49c8-ba55-e4cb6374caaf",
   "metadata": {},
   "source": [
    "** Read Content of CSV file**"
   ]
  },
  {
   "cell_type": "markdown",
   "id": "08c16b57-86d8-40c8-a6c7-057890c7ec42",
   "metadata": {},
   "source": [
    "** Read data from Excel sheet**"
   ]
  },
  {
   "cell_type": "code",
   "execution_count": 1,
   "id": "3a1a4cf8-2ae0-4e2c-888e-4f3b05f325e5",
   "metadata": {},
   "outputs": [
    {
     "name": "stdout",
     "output_type": "stream",
     "text": [
      "Color Name, Number\n",
      "Red, 1\n",
      "Green, 2\n",
      "Blue, 3\n",
      "Yellow, 4\n",
      "Orange, 5\n",
      "Purple, 6\n",
      "Pink, 7\n",
      "\n"
     ]
    }
   ],
   "source": [
    "#uploading a text file\n",
    "with open(\"colors.txt\",\"r\") as f:\n",
    "    print(f.read())"
   ]
  },
  {
   "cell_type": "code",
   "execution_count": 2,
   "id": "d13b205c-6b98-4d79-ba86-ffb0950ab878",
   "metadata": {},
   "outputs": [
    {
     "name": "stdout",
     "output_type": "stream",
     "text": [
      "Color Name, Number\n",
      "\n",
      "Red, 1\n",
      "\n",
      "Green, 2\n",
      "\n",
      "Blue, 3\n",
      "\n",
      "Yellow, 4\n",
      "\n",
      "Orange, 5\n",
      "\n",
      "Purple, 6\n",
      "\n",
      "Pink, 7\n",
      "\n"
     ]
    }
   ],
   "source": [
    "#streaming a text file\n",
    "with open(\"colors.txt\",\"r\") as f:\n",
    "     for obs in f:\n",
    "        print(obs)"
   ]
  },
  {
   "cell_type": "code",
   "execution_count": 3,
   "id": "1785166a-54dd-47a9-827c-0198dfc8b261",
   "metadata": {},
   "outputs": [
    {
     "name": "stdout",
     "output_type": "stream",
     "text": [
      "Color Name, Number\n",
      "\n",
      "Red, 1\n",
      "\n",
      "Green, 2\n",
      "\n",
      "Blue, 3\n",
      "\n",
      "Yellow, 4\n",
      "\n",
      "Orange, 5\n",
      "\n",
      "Purple, 6\n",
      "\n",
      "Pink, 7\n",
      "\n"
     ]
    }
   ],
   "source": [
    "#sampling a text file\n",
    "with open(\"colors.txt\",\"r\") as open_file:\n",
    "    for j,obs in enumerate(open_file):\n",
    "        print(obs)"
   ]
  },
  {
   "cell_type": "code",
   "execution_count": 4,
   "id": "fd9f83ea-ffd8-4980-808e-4a90b0814fe6",
   "metadata": {},
   "outputs": [
    {
     "data": {
      "text/html": [
       "<div>\n",
       "<style scoped>\n",
       "    .dataframe tbody tr th:only-of-type {\n",
       "        vertical-align: middle;\n",
       "    }\n",
       "\n",
       "    .dataframe tbody tr th {\n",
       "        vertical-align: top;\n",
       "    }\n",
       "\n",
       "    .dataframe thead th {\n",
       "        text-align: right;\n",
       "    }\n",
       "</style>\n",
       "<table border=\"1\" class=\"dataframe\">\n",
       "  <thead>\n",
       "    <tr style=\"text-align: right;\">\n",
       "      <th></th>\n",
       "      <th>Color Name</th>\n",
       "      <th>Number</th>\n",
       "    </tr>\n",
       "  </thead>\n",
       "  <tbody>\n",
       "    <tr>\n",
       "      <th>0</th>\n",
       "      <td>Red</td>\n",
       "      <td>1</td>\n",
       "    </tr>\n",
       "    <tr>\n",
       "      <th>1</th>\n",
       "      <td>Green</td>\n",
       "      <td>2</td>\n",
       "    </tr>\n",
       "    <tr>\n",
       "      <th>2</th>\n",
       "      <td>Blue</td>\n",
       "      <td>3</td>\n",
       "    </tr>\n",
       "    <tr>\n",
       "      <th>3</th>\n",
       "      <td>Yellow</td>\n",
       "      <td>4</td>\n",
       "    </tr>\n",
       "    <tr>\n",
       "      <th>4</th>\n",
       "      <td>Orange</td>\n",
       "      <td>5</td>\n",
       "    </tr>\n",
       "    <tr>\n",
       "      <th>5</th>\n",
       "      <td>Purple</td>\n",
       "      <td>6</td>\n",
       "    </tr>\n",
       "    <tr>\n",
       "      <th>6</th>\n",
       "      <td>Pink</td>\n",
       "      <td>7</td>\n",
       "    </tr>\n",
       "  </tbody>\n",
       "</table>\n",
       "</div>"
      ],
      "text/plain": [
       "  Color Name  Number\n",
       "0        Red       1\n",
       "1      Green       2\n",
       "2       Blue       3\n",
       "3     Yellow       4\n",
       "4     Orange       5\n",
       "5     Purple       6\n",
       "6       Pink       7"
      ]
     },
     "execution_count": 4,
     "metadata": {},
     "output_type": "execute_result"
    }
   ],
   "source": [
    "#reading csv file\n",
    "import pandas as pd\n",
    "csv = pd.read_csv(\"colors.csv\")\n",
    "csv"
   ]
  },
  {
   "cell_type": "code",
   "execution_count": 5,
   "id": "4bfc3d70-f00b-4753-95f2-2600bd0f24a6",
   "metadata": {},
   "outputs": [
    {
     "data": {
      "text/html": [
       "<div>\n",
       "<style scoped>\n",
       "    .dataframe tbody tr th:only-of-type {\n",
       "        vertical-align: middle;\n",
       "    }\n",
       "\n",
       "    .dataframe tbody tr th {\n",
       "        vertical-align: top;\n",
       "    }\n",
       "\n",
       "    .dataframe thead th {\n",
       "        text-align: right;\n",
       "    }\n",
       "</style>\n",
       "<table border=\"1\" class=\"dataframe\">\n",
       "  <thead>\n",
       "    <tr style=\"text-align: right;\">\n",
       "      <th></th>\n",
       "      <th>Name</th>\n",
       "      <th>Age</th>\n",
       "      <th>City</th>\n",
       "    </tr>\n",
       "  </thead>\n",
       "  <tbody>\n",
       "    <tr>\n",
       "      <th>0</th>\n",
       "      <td>John</td>\n",
       "      <td>30</td>\n",
       "      <td>New York</td>\n",
       "    </tr>\n",
       "    <tr>\n",
       "      <th>1</th>\n",
       "      <td>Sarah</td>\n",
       "      <td>28</td>\n",
       "      <td>Los Angeles</td>\n",
       "    </tr>\n",
       "    <tr>\n",
       "      <th>2</th>\n",
       "      <td>Mike</td>\n",
       "      <td>35</td>\n",
       "      <td>Chicago</td>\n",
       "    </tr>\n",
       "    <tr>\n",
       "      <th>3</th>\n",
       "      <td>Emily</td>\n",
       "      <td>25</td>\n",
       "      <td>San Francisco</td>\n",
       "    </tr>\n",
       "  </tbody>\n",
       "</table>\n",
       "</div>"
      ],
      "text/plain": [
       "    Name  Age           City\n",
       "0   John   30       New York\n",
       "1  Sarah   28    Los Angeles\n",
       "2   Mike   35        Chicago\n",
       "3  Emily   25  San Francisco"
      ]
     },
     "execution_count": 5,
     "metadata": {},
     "output_type": "execute_result"
    }
   ],
   "source": [
    "import pandas as pd\n",
    "excel = pd.read_excel(\"data.xlsx\")\n",
    "excel"
   ]
  }
 ],
 "metadata": {
  "kernelspec": {
   "display_name": "Python 3 (ipykernel)",
   "language": "python",
   "name": "python3"
  },
  "language_info": {
   "codemirror_mode": {
    "name": "ipython",
    "version": 3
   },
   "file_extension": ".py",
   "mimetype": "text/x-python",
   "name": "python",
   "nbconvert_exporter": "python",
   "pygments_lexer": "ipython3",
   "version": "3.11.4"
  }
 },
 "nbformat": 4,
 "nbformat_minor": 5
}
