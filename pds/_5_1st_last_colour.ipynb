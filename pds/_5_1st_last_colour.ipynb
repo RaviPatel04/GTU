{
 "cells": [
  {
   "cell_type": "code",
   "execution_count": 1,
   "id": "3a386390-ab31-499a-99e9-6cb935e4ca53",
   "metadata": {},
   "outputs": [
    {
     "name": "stdout",
     "output_type": "stream",
     "text": [
      "first colour: red\n",
      "last colour: black\n"
     ]
    }
   ],
   "source": [
    "l=['red', 'blue' ,'green', 'yellow', 'white', 'black']\n",
    "print(f\"first colour: {l[0]}\")\n",
    "print(f\"last colour: {l[-1]}\")"
   ]
  }
 ],
 "metadata": {
  "kernelspec": {
   "display_name": "Python 3 (ipykernel)",
   "language": "python",
   "name": "python3"
  },
  "language_info": {
   "codemirror_mode": {
    "name": "ipython",
    "version": 3
   },
   "file_extension": ".py",
   "mimetype": "text/x-python",
   "name": "python",
   "nbconvert_exporter": "python",
   "pygments_lexer": "ipython3",
   "version": "3.11.4"
  }
 },
 "nbformat": 4,
 "nbformat_minor": 5
}
