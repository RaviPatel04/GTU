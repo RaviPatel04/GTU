{
 "cells": [
  {
   "cell_type": "code",
   "execution_count": 1,
   "id": "e54ae521-14b7-4174-9677-b383de3e5fcb",
   "metadata": {},
   "outputs": [
    {
     "name": "stdin",
     "output_type": "stream",
     "text": [
      "Enter 1st num:  3\n",
      "Enter 2nd num:  2\n"
     ]
    }
   ],
   "source": [
    "ele1 = int(input(\"Enter 1st num: \"))\n",
    "ele2 = int(input(\"Enter 2nd num: \"))"
   ]
  },
  {
   "cell_type": "code",
   "execution_count": 2,
   "id": "d0587ba4-b066-4509-ad81-42d9384c1ce4",
   "metadata": {},
   "outputs": [
    {
     "name": "stdout",
     "output_type": "stream",
     "text": [
      "addition: 5\n",
      "subtraction: 1\n",
      "multiplicaton: 6\n",
      "division: 1.5\n",
      "floor division: 1\n",
      "exponent: 9\n"
     ]
    }
   ],
   "source": [
    "print(f\"addition: {ele1 + ele2}\")\n",
    "print(f\"subtraction: {ele1 - ele2}\")\n",
    "print(f\"multiplicaton: {ele1 * ele2}\")\n",
    "print(f\"division: {ele1 / ele2}\")\n",
    "print(f\"floor division: {ele1 // ele2}\")\n",
    "print(f\"exponent: {ele1 ** ele2}\")"
   ]
  }
 ],
 "metadata": {
  "kernelspec": {
   "display_name": "Python 3 (ipykernel)",
   "language": "python",
   "name": "python3"
  },
  "language_info": {
   "codemirror_mode": {
    "name": "ipython",
    "version": 3
   },
   "file_extension": ".py",
   "mimetype": "text/x-python",
   "name": "python",
   "nbconvert_exporter": "python",
   "pygments_lexer": "ipython3",
   "version": "3.11.4"
  }
 },
 "nbformat": 4,
 "nbformat_minor": 5
}
