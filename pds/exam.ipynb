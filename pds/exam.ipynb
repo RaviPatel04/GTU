{
 "cells": [
  {
   "cell_type": "code",
   "execution_count": 134,
   "id": "2fb8e3ba-3683-40ef-a2b8-aa797b7cb079",
   "metadata": {},
   "outputs": [],
   "source": [
    "import requests\n",
    "from bs4 import BeautifulSoup\n",
    "\n",
    "# Get the HTML content of the webpage\n",
    "response = requests.get(\"https://www.vecteezy.com/free-photos/save-nature\")\n",
    "html = response.content\n",
    "\n",
    "# Parse the HTML content\n",
    "soup = BeautifulSoup(html, 'html.parser')\n",
    "\n",
    "# Find the image tag\n",
    "image_tag = soup.find('img')\n",
    "\n",
    "# Get the image source URL\n",
    "image_url = image_tag['src']\n",
    "\n",
    "# Download the image\n",
    "image_data = requests.get(image_url).content\n",
    "# Save the image to a file\n",
    "with open('image.jpg', 'wb') as f:\n",
    "    f.write(image_data)\n"
   ]
  },
  {
   "cell_type": "code",
   "execution_count": null,
   "id": "5ac5c16b-34e9-4b92-bf29-6c150fae6bb8",
   "metadata": {},
   "outputs": [],
   "source": []
  }
 ],
 "metadata": {
  "kernelspec": {
   "display_name": "Python 3 (ipykernel)",
   "language": "python",
   "name": "python3"
  },
  "language_info": {
   "codemirror_mode": {
    "name": "ipython",
    "version": 3
   },
   "file_extension": ".py",
   "mimetype": "text/x-python",
   "name": "python",
   "nbconvert_exporter": "python",
   "pygments_lexer": "ipython3",
   "version": "3.11.4"
  }
 },
 "nbformat": 4,
 "nbformat_minor": 5
}
