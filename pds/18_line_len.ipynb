{
 "cells": [
  {
   "cell_type": "code",
   "execution_count": 1,
   "id": "18f325cb-c08b-46ac-901f-4e2b6d9650a0",
   "metadata": {},
   "outputs": [
    {
     "name": "stdout",
     "output_type": "stream",
     "text": [
      "length of line 1: 14\n",
      "length of line 1: 14\n",
      "length of line 1: 25\n",
      "length of line 1: 33\n"
     ]
    }
   ],
   "source": [
    "with open('length.txt') as fp:\n",
    "    i = 1\n",
    "    for line in fp.readlines():\n",
    "        print(f\"length of line {1}: {len(line)}\")\n",
    "        i += 1"
   ]
  }
 ],
 "metadata": {
  "kernelspec": {
   "display_name": "Python 3 (ipykernel)",
   "language": "python",
   "name": "python3"
  },
  "language_info": {
   "codemirror_mode": {
    "name": "ipython",
    "version": 3
   },
   "file_extension": ".py",
   "mimetype": "text/x-python",
   "name": "python",
   "nbconvert_exporter": "python",
   "pygments_lexer": "ipython3",
   "version": "3.11.4"
  }
 },
 "nbformat": 4,
 "nbformat_minor": 5
}
