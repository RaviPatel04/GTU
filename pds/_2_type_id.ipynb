{
 "cells": [
  {
   "cell_type": "code",
   "execution_count": 1,
   "id": "8cd6eb8e-9f2e-4252-ae2b-7c1482e2e83b",
   "metadata": {},
   "outputs": [],
   "source": [
    "a = 2\n",
    "b = 2.0\n",
    "c = '2'\n",
    "d = True\n",
    "e = (0,1,2)\n",
    "f = [1,2,3]\n",
    "g = 4 + 5j"
   ]
  },
  {
   "cell_type": "code",
   "execution_count": 2,
   "id": "6b07151c-9c61-4ebc-ac31-c7d1fe21bc77",
   "metadata": {},
   "outputs": [
    {
     "name": "stdout",
     "output_type": "stream",
     "text": [
      "type() a : <class 'int'>, b : <class 'float'>, c : <class 'str'>, d : <class 'bool'>, e : <class 'tuple'>, f : <class 'list'>, g : <class 'complex'>\n"
     ]
    }
   ],
   "source": [
    "print(f\"type() a : {type(a)}, b : {type(b)}, c : {type(c)}, d : {type(d)}, e : {type(e)}, f : {type(f)}, g : {type(g)}\")"
   ]
  },
  {
   "cell_type": "code",
   "execution_count": 3,
   "id": "0e1becb9-e619-422c-8703-534cec93db57",
   "metadata": {},
   "outputs": [
    {
     "name": "stdout",
     "output_type": "stream",
     "text": [
      "id() a : 140733711770440, b : 2745699814672, c : 140733711813816, d : 140733710244712, e : 2745700121216, f : 2745700222912, g : 2745699819984\n"
     ]
    }
   ],
   "source": [
    "print(f\"id() a : {id(a)}, b : {id(b)}, c : {id(c)}, d : {id(d)}, e : {id(e)}, f : {id(f)}, g : {id(g)}\")"
   ]
  }
 ],
 "metadata": {
  "kernelspec": {
   "display_name": "Python 3 (ipykernel)",
   "language": "python",
   "name": "python3"
  },
  "language_info": {
   "codemirror_mode": {
    "name": "ipython",
    "version": 3
   },
   "file_extension": ".py",
   "mimetype": "text/x-python",
   "name": "python",
   "nbconvert_exporter": "python",
   "pygments_lexer": "ipython3",
   "version": "3.11.4"
  }
 },
 "nbformat": 4,
 "nbformat_minor": 5
}
