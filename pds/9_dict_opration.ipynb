{
 "cells": [
  {
   "cell_type": "code",
   "execution_count": 1,
   "id": "2c384cd3-d82b-4a0b-9114-6addf12e86af",
   "metadata": {},
   "outputs": [
    {
     "name": "stdout",
     "output_type": "stream",
     "text": [
      "<class 'dict'>\n"
     ]
    }
   ],
   "source": [
    "dict1 = {}\n",
    "dict1[1] = \"one\"\n",
    "dict1[2] = \"two\"\n",
    "print(dict)"
   ]
  },
  {
   "cell_type": "code",
   "execution_count": 2,
   "id": "1b321bd2-196e-4e2f-800a-abf7fe8bd140",
   "metadata": {},
   "outputs": [
    {
     "name": "stdout",
     "output_type": "stream",
     "text": [
      "The value of specific key is two\n"
     ]
    }
   ],
   "source": [
    "value = dict1.get(2)\n",
    "print(f\"The value of specific key is {value}\")"
   ]
  },
  {
   "cell_type": "code",
   "execution_count": 3,
   "id": "779c8b8b-3389-4ecc-bf4e-678b8bcf09a7",
   "metadata": {},
   "outputs": [
    {
     "name": "stdout",
     "output_type": "stream",
     "text": [
      "sorted dict: [(1, 'one'), (2, 'two')]\n"
     ]
    }
   ],
   "source": [
    "print(f\"sorted dict: {sorted(dict1.items())}\")"
   ]
  },
  {
   "cell_type": "code",
   "execution_count": null,
   "id": "25bac802-869b-4884-98f5-8b8a1245e183",
   "metadata": {},
   "outputs": [],
   "source": []
  }
 ],
 "metadata": {
  "kernelspec": {
   "display_name": "Python 3 (ipykernel)",
   "language": "python",
   "name": "python3"
  },
  "language_info": {
   "codemirror_mode": {
    "name": "ipython",
    "version": 3
   },
   "file_extension": ".py",
   "mimetype": "text/x-python",
   "name": "python",
   "nbconvert_exporter": "python",
   "pygments_lexer": "ipython3",
   "version": "3.11.4"
  }
 },
 "nbformat": 4,
 "nbformat_minor": 5
}
