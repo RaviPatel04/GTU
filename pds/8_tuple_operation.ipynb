{
 "cells": [
  {
   "cell_type": "code",
   "execution_count": 1,
   "id": "892596ba-3b7d-401d-b05a-a578255895b9",
   "metadata": {},
   "outputs": [],
   "source": [
    "t = (0, 9, 7, 5, 1, 2)"
   ]
  },
  {
   "cell_type": "code",
   "execution_count": 2,
   "id": "e264a567-5eea-4ccd-90e0-9993a540a871",
   "metadata": {},
   "outputs": [
    {
     "name": "stdout",
     "output_type": "stream",
     "text": [
      "length of tuple is 6\n",
      "sum of elements of tuple: 24\n",
      "min vlaue from tuple: 0\n",
      "max value of tuple: 9\n",
      "sorted tuple: [0, 1, 2, 5, 7, 9]\n"
     ]
    }
   ],
   "source": [
    "print(f\"length of tuple is {len(t)}\")\n",
    "print(f\"sum of elements of tuple: {sum(t)}\")\n",
    "print(f\"min vlaue from tuple: {min(t)}\")\n",
    "print(f\"max value of tuple: {max(t)}\")\n",
    "print(f\"sorted tuple: {sorted(t)}\")"
   ]
  },
  {
   "cell_type": "code",
   "execution_count": null,
   "id": "bebf82ea-ade8-46a3-8edf-8e67491fe437",
   "metadata": {},
   "outputs": [],
   "source": []
  }
 ],
 "metadata": {
  "kernelspec": {
   "display_name": "Python 3 (ipykernel)",
   "language": "python",
   "name": "python3"
  },
  "language_info": {
   "codemirror_mode": {
    "name": "ipython",
    "version": 3
   },
   "file_extension": ".py",
   "mimetype": "text/x-python",
   "name": "python",
   "nbconvert_exporter": "python",
   "pygments_lexer": "ipython3",
   "version": "3.11.4"
  }
 },
 "nbformat": 4,
 "nbformat_minor": 5
}
