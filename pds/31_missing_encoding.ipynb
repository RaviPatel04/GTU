{
 "cells": [
  {
   "cell_type": "markdown",
   "id": "8c2c9fb4-120f-433f-898e-a21bd67522e6",
   "metadata": {},
   "source": [
    "***Practical 31***"
   ]
  },
  {
   "cell_type": "markdown",
   "id": "03999998-a21d-40c4-8b09-265295a3c9a7",
   "metadata": {},
   "source": [
    "**Write a python program to find missing data and perform\n",
    "encoding of it.**"
   ]
  },
  {
   "cell_type": "code",
   "execution_count": 1,
   "id": "426d3ad5-d1af-4b0d-9856-e4614ffa74b1",
   "metadata": {},
   "outputs": [
    {
     "name": "stdout",
     "output_type": "stream",
     "text": [
      "0    False\n",
      "1    False\n",
      "2    False\n",
      "3     True\n",
      "4    False\n",
      "5    False\n",
      "6     True\n",
      "dtype: bool\n",
      "0    1.0\n",
      "1    2.0\n",
      "2    3.0\n",
      "3    3.4\n",
      "4    5.0\n",
      "5    6.0\n",
      "6    3.4\n",
      "dtype: float64\n"
     ]
    }
   ],
   "source": [
    "import numpy as np\n",
    "import pandas as pd\n",
    "s = pd.Series([1,2,3,np.NaN,5,6,None])\n",
    "print(s.isnull())\n",
    "print(s.fillna(s.mean()))\n"
   ]
  }
 ],
 "metadata": {
  "kernelspec": {
   "display_name": "Python 3 (ipykernel)",
   "language": "python",
   "name": "python3"
  },
  "language_info": {
   "codemirror_mode": {
    "name": "ipython",
    "version": 3
   },
   "file_extension": ".py",
   "mimetype": "text/x-python",
   "name": "python",
   "nbconvert_exporter": "python",
   "pygments_lexer": "ipython3",
   "version": "3.11.4"
  }
 },
 "nbformat": 4,
 "nbformat_minor": 5
}
