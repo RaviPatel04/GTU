{
 "cells": [
  {
   "cell_type": "markdown",
   "id": "2a5218f5-49de-4df7-878f-7de4edd5b35b",
   "metadata": {},
   "source": [
    "## Implement and demonstrate the FIND-S algorithm for finding the most specific hypothesis based on a given set of training data samples. Read the training data from a .CSV file."
   ]
  },
  {
   "cell_type": "code",
   "execution_count": null,
   "id": "7c4601fd-b126-4738-a559-c51a0eea1a46",
   "metadata": {},
   "outputs": [],
   "source": [
    "import pandas as pd\n",
    "import numpy as np"
   ]
  },
  {
   "cell_type": "code",
   "execution_count": null,
   "id": "c25ec289-8be7-472e-a41e-27a69c5dcf85",
   "metadata": {},
   "outputs": [],
   "source": [
    "data=pd.read_csv('pr1.csv')\n",
    "data"
   ]
  },
  {
   "cell_type": "code",
   "execution_count": null,
   "id": "f153bbf9-abf1-409b-9e39-01986566a3ae",
   "metadata": {},
   "outputs": [],
   "source": [
    "concepts=np.array(data)[:,:-1]\n",
    "concepts"
   ]
  },
  {
   "cell_type": "code",
   "execution_count": null,
   "id": "90da007d-69ef-4329-9b97-d8997ba5fe8a",
   "metadata": {},
   "outputs": [],
   "source": [
    "target=np.array(data)[:,-1]"
   ]
  },
  {
   "cell_type": "code",
   "execution_count": null,
   "id": "0cfebda5-be21-4793-80b5-2157da3c430e",
   "metadata": {},
   "outputs": [],
   "source": [
    "def train(con, tar):\n",
    "    for i, val in enumerate(tar):\n",
    "        if val.lower() == 'yes':  # Changed to .lower() to match 'yes' regardless of case\n",
    "            specific_h = con[i].copy()\n",
    "            break\n",
    "    \n",
    "    for i, val in enumerate(con):\n",
    "        if tar[i].lower() == 'yes':  # Changed to .lower() to match 'yes' regardless of case\n",
    "            for x in range(len(specific_h)):\n",
    "                if val[x] != specific_h[x]:\n",
    "                    specific_h[x] = '?'\n",
    "                else:\n",
    "                    pass\n",
    "    return specific_h"
   ]
  },
  {
   "cell_type": "code",
   "execution_count": null,
   "id": "ce79db59-f599-40e1-81d1-7dcf2af8a1eb",
   "metadata": {},
   "outputs": [],
   "source": [
    "print(train(concepts,target))"
   ]
  }
 ],
 "metadata": {
  "kernelspec": {
   "display_name": "Python 3 (ipykernel)",
   "language": "python",
   "name": "python3"
  },
  "language_info": {
   "codemirror_mode": {
    "name": "ipython",
    "version": 3
   },
   "file_extension": ".py",
   "mimetype": "text/x-python",
   "name": "python",
   "nbconvert_exporter": "python",
   "pygments_lexer": "ipython3",
   "version": "3.12.2"
  }
 },
 "nbformat": 4,
 "nbformat_minor": 5
}
